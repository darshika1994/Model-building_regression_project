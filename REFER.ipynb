{
 "cells": [
  {
   "cell_type": "code",
   "execution_count": 1,
   "metadata": {},
   "outputs": [],
   "source": [
    "import numpy as np\n",
    "import pandas as pd\n",
    "import matplotlib.pyplot as plt\n",
    "import seaborn as sns\n",
    "%matplotlib inline"
   ]
  },
  {
   "cell_type": "code",
   "execution_count": 2,
   "metadata": {
    "scrolled": true
   },
   "outputs": [
    {
     "data": {
      "text/html": [
       "<div>\n",
       "<style scoped>\n",
       "    .dataframe tbody tr th:only-of-type {\n",
       "        vertical-align: middle;\n",
       "    }\n",
       "\n",
       "    .dataframe tbody tr th {\n",
       "        vertical-align: top;\n",
       "    }\n",
       "\n",
       "    .dataframe thead th {\n",
       "        text-align: right;\n",
       "    }\n",
       "</style>\n",
       "<table border=\"1\" class=\"dataframe\">\n",
       "  <thead>\n",
       "    <tr style=\"text-align: right;\">\n",
       "      <th></th>\n",
       "      <th>Item_Identifier</th>\n",
       "      <th>Item_Weight</th>\n",
       "      <th>Item_Fat_Content</th>\n",
       "      <th>Item_Visibility</th>\n",
       "      <th>Item_Type</th>\n",
       "      <th>Item_MRP</th>\n",
       "      <th>Outlet_Identifier</th>\n",
       "      <th>Outlet_Establishment_Year</th>\n",
       "      <th>Outlet_Size</th>\n",
       "      <th>Outlet_Location_Type</th>\n",
       "      <th>Outlet_Type</th>\n",
       "      <th>Item_Outlet_Sales</th>\n",
       "    </tr>\n",
       "  </thead>\n",
       "  <tbody>\n",
       "    <tr>\n",
       "      <th>0</th>\n",
       "      <td>FDA15</td>\n",
       "      <td>9.30</td>\n",
       "      <td>Low Fat</td>\n",
       "      <td>0.016047</td>\n",
       "      <td>Dairy</td>\n",
       "      <td>249.8092</td>\n",
       "      <td>OUT049</td>\n",
       "      <td>1999</td>\n",
       "      <td>Medium</td>\n",
       "      <td>Tier 1</td>\n",
       "      <td>Supermarket Type1</td>\n",
       "      <td>3735.1380</td>\n",
       "    </tr>\n",
       "    <tr>\n",
       "      <th>1</th>\n",
       "      <td>DRC01</td>\n",
       "      <td>5.92</td>\n",
       "      <td>Regular</td>\n",
       "      <td>0.019278</td>\n",
       "      <td>Soft Drinks</td>\n",
       "      <td>48.2692</td>\n",
       "      <td>OUT018</td>\n",
       "      <td>2009</td>\n",
       "      <td>Medium</td>\n",
       "      <td>Tier 3</td>\n",
       "      <td>Supermarket Type2</td>\n",
       "      <td>443.4228</td>\n",
       "    </tr>\n",
       "    <tr>\n",
       "      <th>2</th>\n",
       "      <td>FDN15</td>\n",
       "      <td>17.50</td>\n",
       "      <td>Low Fat</td>\n",
       "      <td>0.016760</td>\n",
       "      <td>Meat</td>\n",
       "      <td>141.6180</td>\n",
       "      <td>OUT049</td>\n",
       "      <td>1999</td>\n",
       "      <td>Medium</td>\n",
       "      <td>Tier 1</td>\n",
       "      <td>Supermarket Type1</td>\n",
       "      <td>2097.2700</td>\n",
       "    </tr>\n",
       "    <tr>\n",
       "      <th>3</th>\n",
       "      <td>FDX07</td>\n",
       "      <td>19.20</td>\n",
       "      <td>Regular</td>\n",
       "      <td>0.000000</td>\n",
       "      <td>Fruits and Vegetables</td>\n",
       "      <td>182.0950</td>\n",
       "      <td>OUT010</td>\n",
       "      <td>1998</td>\n",
       "      <td>NaN</td>\n",
       "      <td>Tier 3</td>\n",
       "      <td>Grocery Store</td>\n",
       "      <td>732.3800</td>\n",
       "    </tr>\n",
       "    <tr>\n",
       "      <th>4</th>\n",
       "      <td>NCD19</td>\n",
       "      <td>8.93</td>\n",
       "      <td>Low Fat</td>\n",
       "      <td>0.000000</td>\n",
       "      <td>Household</td>\n",
       "      <td>53.8614</td>\n",
       "      <td>OUT013</td>\n",
       "      <td>1987</td>\n",
       "      <td>High</td>\n",
       "      <td>Tier 3</td>\n",
       "      <td>Supermarket Type1</td>\n",
       "      <td>994.7052</td>\n",
       "    </tr>\n",
       "  </tbody>\n",
       "</table>\n",
       "</div>"
      ],
      "text/plain": [
       "  Item_Identifier  Item_Weight Item_Fat_Content  Item_Visibility  \\\n",
       "0           FDA15         9.30          Low Fat         0.016047   \n",
       "1           DRC01         5.92          Regular         0.019278   \n",
       "2           FDN15        17.50          Low Fat         0.016760   \n",
       "3           FDX07        19.20          Regular         0.000000   \n",
       "4           NCD19         8.93          Low Fat         0.000000   \n",
       "\n",
       "               Item_Type  Item_MRP Outlet_Identifier  \\\n",
       "0                  Dairy  249.8092            OUT049   \n",
       "1            Soft Drinks   48.2692            OUT018   \n",
       "2                   Meat  141.6180            OUT049   \n",
       "3  Fruits and Vegetables  182.0950            OUT010   \n",
       "4              Household   53.8614            OUT013   \n",
       "\n",
       "   Outlet_Establishment_Year Outlet_Size Outlet_Location_Type  \\\n",
       "0                       1999      Medium               Tier 1   \n",
       "1                       2009      Medium               Tier 3   \n",
       "2                       1999      Medium               Tier 1   \n",
       "3                       1998         NaN               Tier 3   \n",
       "4                       1987        High               Tier 3   \n",
       "\n",
       "         Outlet_Type  Item_Outlet_Sales  \n",
       "0  Supermarket Type1          3735.1380  \n",
       "1  Supermarket Type2           443.4228  \n",
       "2  Supermarket Type1          2097.2700  \n",
       "3      Grocery Store           732.3800  \n",
       "4  Supermarket Type1           994.7052  "
      ]
     },
     "execution_count": 2,
     "metadata": {},
     "output_type": "execute_result"
    }
   ],
   "source": [
    "data = pd.read_csv(r\"C:\\Users\\sanjay\\Desktop\\Analytics Vidya\\ALL THE PYNB FILES OF THE COMPLETE COURSE\\train (1).csv\")\n",
    "data.head()"
   ]
  },
  {
   "cell_type": "code",
   "execution_count": 3,
   "metadata": {},
   "outputs": [
    {
     "data": {
      "text/plain": [
       "(8523, 12)"
      ]
     },
     "execution_count": 3,
     "metadata": {},
     "output_type": "execute_result"
    }
   ],
   "source": [
    "data.shape"
   ]
  },
  {
   "cell_type": "code",
   "execution_count": 4,
   "metadata": {
    "scrolled": true
   },
   "outputs": [
    {
     "data": {
      "text/plain": [
       "Item_Identifier               object\n",
       "Item_Weight                  float64\n",
       "Item_Fat_Content              object\n",
       "Item_Visibility              float64\n",
       "Item_Type                     object\n",
       "Item_MRP                     float64\n",
       "Outlet_Identifier             object\n",
       "Outlet_Establishment_Year      int64\n",
       "Outlet_Size                   object\n",
       "Outlet_Location_Type          object\n",
       "Outlet_Type                   object\n",
       "Item_Outlet_Sales            float64\n",
       "dtype: object"
      ]
     },
     "execution_count": 4,
     "metadata": {},
     "output_type": "execute_result"
    }
   ],
   "source": [
    "data.dtypes"
   ]
  },
  {
   "cell_type": "code",
   "execution_count": 5,
   "metadata": {},
   "outputs": [],
   "source": [
    "# data.drop(['Item_Identifier'], axis = 1)\n",
    "# fig, ax = plt.subplots(figsize = (12,12))\n",
    "# ax = sns.heatmap(data.corr(),annot = True)"
   ]
  },
  {
   "cell_type": "markdown",
   "metadata": {},
   "source": [
    "## Analysis of Continuous variables"
   ]
  },
  {
   "cell_type": "code",
   "execution_count": 6,
   "metadata": {},
   "outputs": [
    {
     "name": "stdout",
     "output_type": "stream",
     "text": [
      "5\n"
     ]
    }
   ],
   "source": [
    "conti_feature = [feature for feature in data.columns if data[feature].dtypes != 'O']\n",
    "print(len(conti_feature))"
   ]
  },
  {
   "cell_type": "code",
   "execution_count": 7,
   "metadata": {
    "scrolled": false
   },
   "outputs": [],
   "source": [
    "# for feature in conti_feature:  #analyzed the conti variable by creating histograms to understand there distribution\n",
    "#     data1 = data.copy()\n",
    "#     data[feature].hist(bins=25)\n",
    "#     plt.xlabel(feature)\n",
    "#     plt.ylabel('count')\n",
    "#     plt.title(feature)\n",
    "#     plt.show()"
   ]
  },
  {
   "cell_type": "code",
   "execution_count": 8,
   "metadata": {},
   "outputs": [],
   "source": [
    "# for feature in conti_feature:  #analyzed presence of outlier in conti by creating boxplot to understand there distribution\n",
    "#     data1 = data.copy()\n",
    "#     data[feature].plot.box()\n",
    "#     plt.title(feature)\n",
    "#     plt.show()"
   ]
  },
  {
   "cell_type": "markdown",
   "metadata": {},
   "source": [
    "## Analysis of Categorical Variable"
   ]
  },
  {
   "cell_type": "code",
   "execution_count": 9,
   "metadata": {},
   "outputs": [
    {
     "name": "stdout",
     "output_type": "stream",
     "text": [
      "7\n"
     ]
    },
    {
     "data": {
      "text/html": [
       "<div>\n",
       "<style scoped>\n",
       "    .dataframe tbody tr th:only-of-type {\n",
       "        vertical-align: middle;\n",
       "    }\n",
       "\n",
       "    .dataframe tbody tr th {\n",
       "        vertical-align: top;\n",
       "    }\n",
       "\n",
       "    .dataframe thead th {\n",
       "        text-align: right;\n",
       "    }\n",
       "</style>\n",
       "<table border=\"1\" class=\"dataframe\">\n",
       "  <thead>\n",
       "    <tr style=\"text-align: right;\">\n",
       "      <th></th>\n",
       "      <th>Item_Identifier</th>\n",
       "      <th>Item_Fat_Content</th>\n",
       "      <th>Item_Type</th>\n",
       "      <th>Outlet_Identifier</th>\n",
       "      <th>Outlet_Size</th>\n",
       "      <th>Outlet_Location_Type</th>\n",
       "      <th>Outlet_Type</th>\n",
       "    </tr>\n",
       "  </thead>\n",
       "  <tbody>\n",
       "    <tr>\n",
       "      <th>0</th>\n",
       "      <td>FDA15</td>\n",
       "      <td>Low Fat</td>\n",
       "      <td>Dairy</td>\n",
       "      <td>OUT049</td>\n",
       "      <td>Medium</td>\n",
       "      <td>Tier 1</td>\n",
       "      <td>Supermarket Type1</td>\n",
       "    </tr>\n",
       "    <tr>\n",
       "      <th>1</th>\n",
       "      <td>DRC01</td>\n",
       "      <td>Regular</td>\n",
       "      <td>Soft Drinks</td>\n",
       "      <td>OUT018</td>\n",
       "      <td>Medium</td>\n",
       "      <td>Tier 3</td>\n",
       "      <td>Supermarket Type2</td>\n",
       "    </tr>\n",
       "    <tr>\n",
       "      <th>2</th>\n",
       "      <td>FDN15</td>\n",
       "      <td>Low Fat</td>\n",
       "      <td>Meat</td>\n",
       "      <td>OUT049</td>\n",
       "      <td>Medium</td>\n",
       "      <td>Tier 1</td>\n",
       "      <td>Supermarket Type1</td>\n",
       "    </tr>\n",
       "    <tr>\n",
       "      <th>3</th>\n",
       "      <td>FDX07</td>\n",
       "      <td>Regular</td>\n",
       "      <td>Fruits and Vegetables</td>\n",
       "      <td>OUT010</td>\n",
       "      <td>NaN</td>\n",
       "      <td>Tier 3</td>\n",
       "      <td>Grocery Store</td>\n",
       "    </tr>\n",
       "    <tr>\n",
       "      <th>4</th>\n",
       "      <td>NCD19</td>\n",
       "      <td>Low Fat</td>\n",
       "      <td>Household</td>\n",
       "      <td>OUT013</td>\n",
       "      <td>High</td>\n",
       "      <td>Tier 3</td>\n",
       "      <td>Supermarket Type1</td>\n",
       "    </tr>\n",
       "  </tbody>\n",
       "</table>\n",
       "</div>"
      ],
      "text/plain": [
       "  Item_Identifier Item_Fat_Content              Item_Type Outlet_Identifier  \\\n",
       "0           FDA15          Low Fat                  Dairy            OUT049   \n",
       "1           DRC01          Regular            Soft Drinks            OUT018   \n",
       "2           FDN15          Low Fat                   Meat            OUT049   \n",
       "3           FDX07          Regular  Fruits and Vegetables            OUT010   \n",
       "4           NCD19          Low Fat              Household            OUT013   \n",
       "\n",
       "  Outlet_Size Outlet_Location_Type        Outlet_Type  \n",
       "0      Medium               Tier 1  Supermarket Type1  \n",
       "1      Medium               Tier 3  Supermarket Type2  \n",
       "2      Medium               Tier 1  Supermarket Type1  \n",
       "3         NaN               Tier 3      Grocery Store  \n",
       "4        High               Tier 3  Supermarket Type1  "
      ]
     },
     "execution_count": 9,
     "metadata": {},
     "output_type": "execute_result"
    }
   ],
   "source": [
    "cate_feature = [feature for feature in data.columns if (data[feature].dtypes == 'O')]\n",
    "print(len(cate_feature))\n",
    "data[cate_feature].head()"
   ]
  },
  {
   "cell_type": "code",
   "execution_count": 10,
   "metadata": {},
   "outputs": [
    {
     "data": {
      "image/png": "[encoded data removed]",
      "text/plain": [
       "<Figure size 432x288 with 1 Axes>"
      ]
     },
     "metadata": {
      "needs_background": "light"
     },
     "output_type": "display_data"
    },
    {
     "data": {
      "image/png": "[encoded data removed]",
      "text/plain": [
       "<Figure size 432x288 with 1 Axes>"
      ]
     },
     "metadata": {
      "needs_background": "light"
     },
     "output_type": "display_data"
    },
    {
     "data": {
      "image/png": "[encoded data removed]",
      "text/plain": [
       "<Figure size 432x288 with 1 Axes>"
      ]
     },
     "metadata": {
      "needs_background": "light"
     },
     "output_type": "display_data"
    },
    {
     "data": {
      "image/png": "[encoded data removed]",
      "text/plain": [
       "<Figure size 432x288 with 1 Axes>"
      ]
     },
     "metadata": {
      "needs_background": "light"
     },
     "output_type": "display_data"
    },
    {
     "data": {
      "image/png": "[encoded data removed]",
      "text/plain": [
       "<Figure size 432x288 with 1 Axes>"
      ]
     },
     "metadata": {
      "needs_background": "light"
     },
     "output_type": "display_data"
    },
    {
     "data": {
      "image/png": "[encoded data removed]",
      "text/plain": [
       "<Figure size 432x288 with 1 Axes>"
      ]
     },
     "metadata": {
      "needs_background": "light"
     },
     "output_type": "display_data"
    }
   ],
   "source": [
    "for feature in cate_feature:\n",
    "    data1 = data.copy()\n",
    "    if feature in 'Item_Identifier':\n",
    "        pass\n",
    "    else:\n",
    "        data1.groupby(feature)['Item_Outlet_Sales'].median().plot.bar()\n",
    "        plt.xlabel(feature)\n",
    "        plt.ylabel('Sales')\n",
    "        plt.title(feature)\n",
    "        plt.show()"
   ]
  },
  {
   "cell_type": "code",
   "execution_count": 11,
   "metadata": {},
   "outputs": [
    {
     "data": {
      "image/png": "[encoded data removed]",
      "text/plain": [
       "<Figure size 432x288 with 1 Axes>"
      ]
     },
     "metadata": {
      "needs_background": "light"
     },
     "output_type": "display_data"
    },
    {
     "data": {
      "image/png": "[encoded data removed]",
      "text/plain": [
       "<Figure size 432x288 with 1 Axes>"
      ]
     },
     "metadata": {
      "needs_background": "light"
     },
     "output_type": "display_data"
    },
    {
     "data": {
      "image/png": "[encoded data removed]",
      "text/plain": [
       "<Figure size 432x288 with 1 Axes>"
      ]
     },
     "metadata": {
      "needs_background": "light"
     },
     "output_type": "display_data"
    },
    {
     "data": {
      "image/png": "[encoded data removed]",
      "text/plain": [
       "<Figure size 432x288 with 1 Axes>"
      ]
     },
     "metadata": {
      "needs_background": "light"
     },
     "output_type": "display_data"
    },
    {
     "data": {
      "image/png": "[encoded data removed]",
      "text/plain": [
       "<Figure size 432x288 with 1 Axes>"
      ]
     },
     "metadata": {
      "needs_background": "light"
     },
     "output_type": "display_data"
    },
    {
     "data": {
      "image/png": "[encoded data removed]",
      "text/plain": [
       "<Figure size 432x288 with 1 Axes>"
      ]
     },
     "metadata": {
      "needs_background": "light"
     },
     "output_type": "display_data"
    }
   ],
   "source": [
    "for feature in cate_feature:\n",
    "    data1 = data.copy()\n",
    "    if feature in 'Item_Identifier':\n",
    "        pass\n",
    "    else:\n",
    "        (data1[feature].value_counts()/len(data1)).plot.bar()\n",
    "        plt.xlabel(feature)\n",
    "        plt.ylabel('count')\n",
    "        plt.title(feature)\n",
    "        plt.show()"
   ]
  },
  {
   "cell_type": "markdown",
   "metadata": {},
   "source": [
    "## Analysis of missing value"
   ]
  },
  {
   "cell_type": "code",
   "execution_count": 12,
   "metadata": {},
   "outputs": [
    {
     "name": "stdout",
     "output_type": "stream",
     "text": [
      "2\n"
     ]
    },
    {
     "data": {
      "text/html": [
       "<div>\n",
       "<style scoped>\n",
       "    .dataframe tbody tr th:only-of-type {\n",
       "        vertical-align: middle;\n",
       "    }\n",
       "\n",
       "    .dataframe tbody tr th {\n",
       "        vertical-align: top;\n",
       "    }\n",
       "\n",
       "    .dataframe thead th {\n",
       "        text-align: right;\n",
       "    }\n",
       "</style>\n",
       "<table border=\"1\" class=\"dataframe\">\n",
       "  <thead>\n",
       "    <tr style=\"text-align: right;\">\n",
       "      <th></th>\n",
       "      <th>Item_Weight</th>\n",
       "      <th>Outlet_Size</th>\n",
       "    </tr>\n",
       "  </thead>\n",
       "  <tbody>\n",
       "    <tr>\n",
       "      <th>0</th>\n",
       "      <td>9.30</td>\n",
       "      <td>Medium</td>\n",
       "    </tr>\n",
       "    <tr>\n",
       "      <th>1</th>\n",
       "      <td>5.92</td>\n",
       "      <td>Medium</td>\n",
       "    </tr>\n",
       "    <tr>\n",
       "      <th>2</th>\n",
       "      <td>17.50</td>\n",
       "      <td>Medium</td>\n",
       "    </tr>\n",
       "    <tr>\n",
       "      <th>3</th>\n",
       "      <td>19.20</td>\n",
       "      <td>NaN</td>\n",
       "    </tr>\n",
       "    <tr>\n",
       "      <th>4</th>\n",
       "      <td>8.93</td>\n",
       "      <td>High</td>\n",
       "    </tr>\n",
       "  </tbody>\n",
       "</table>\n",
       "</div>"
      ],
      "text/plain": [
       "   Item_Weight Outlet_Size\n",
       "0         9.30      Medium\n",
       "1         5.92      Medium\n",
       "2        17.50      Medium\n",
       "3        19.20         NaN\n",
       "4         8.93        High"
      ]
     },
     "execution_count": 12,
     "metadata": {},
     "output_type": "execute_result"
    }
   ],
   "source": [
    "feature_nan = [feature for feature in data.columns if data[feature].isnull().sum()>1]\n",
    "print(len(feature_nan)) #seeing missing value of both conti+categ features (complete dataset)\n",
    "data[feature_nan].head()"
   ]
  },
  {
   "cell_type": "code",
   "execution_count": 13,
   "metadata": {},
   "outputs": [],
   "source": [
    "# for feature in feature_nan: #since there are many missing value, so lets c if they have any relation with item outlet sales\n",
    "#     data1 = data.copy()\n",
    "#     data1[feature] = np.where(data[feature].isnull(),1,0)\n",
    "#     data1.groupby(feature)['Item_Outlet_Sales'].median().plot.bar()\n",
    "#     plt.title(feature)\n",
    "#     plt.show()"
   ]
  },
  {
   "cell_type": "markdown",
   "metadata": {},
   "source": [
    "# DATA MANIPULATION"
   ]
  },
  {
   "cell_type": "markdown",
   "metadata": {},
   "source": [
    "## Check for Duplicate values"
   ]
  },
  {
   "cell_type": "code",
   "execution_count": 14,
   "metadata": {
    "scrolled": true
   },
   "outputs": [
    {
     "data": {
      "text/plain": [
       "False"
      ]
     },
     "execution_count": 14,
     "metadata": {},
     "output_type": "execute_result"
    }
   ],
   "source": [
    "data.duplicated().any()  #are there any DUPLICATE values in the complete dataset"
   ]
  },
  {
   "cell_type": "markdown",
   "metadata": {},
   "source": [
    "## Check for missing value - of continuous and categorical variable separetely & filling it"
   ]
  },
  {
   "cell_type": "markdown",
   "metadata": {},
   "source": [
    "#### Working with missing value in continuous variable and imputing it"
   ]
  },
  {
   "cell_type": "code",
   "execution_count": 15,
   "metadata": {},
   "outputs": [
    {
     "data": {
      "text/html": [
       "<div>\n",
       "<style scoped>\n",
       "    .dataframe tbody tr th:only-of-type {\n",
       "        vertical-align: middle;\n",
       "    }\n",
       "\n",
       "    .dataframe tbody tr th {\n",
       "        vertical-align: top;\n",
       "    }\n",
       "\n",
       "    .dataframe thead th {\n",
       "        text-align: right;\n",
       "    }\n",
       "</style>\n",
       "<table border=\"1\" class=\"dataframe\">\n",
       "  <thead>\n",
       "    <tr style=\"text-align: right;\">\n",
       "      <th></th>\n",
       "      <th>Item_Weight</th>\n",
       "      <th>Item_Visibility</th>\n",
       "      <th>Item_MRP</th>\n",
       "      <th>Outlet_Establishment_Year</th>\n",
       "      <th>Item_Outlet_Sales</th>\n",
       "    </tr>\n",
       "  </thead>\n",
       "  <tbody>\n",
       "    <tr>\n",
       "      <th>0</th>\n",
       "      <td>9.30</td>\n",
       "      <td>0.016047</td>\n",
       "      <td>249.8092</td>\n",
       "      <td>1999</td>\n",
       "      <td>3735.1380</td>\n",
       "    </tr>\n",
       "    <tr>\n",
       "      <th>1</th>\n",
       "      <td>5.92</td>\n",
       "      <td>0.019278</td>\n",
       "      <td>48.2692</td>\n",
       "      <td>2009</td>\n",
       "      <td>443.4228</td>\n",
       "    </tr>\n",
       "    <tr>\n",
       "      <th>2</th>\n",
       "      <td>17.50</td>\n",
       "      <td>0.016760</td>\n",
       "      <td>141.6180</td>\n",
       "      <td>1999</td>\n",
       "      <td>2097.2700</td>\n",
       "    </tr>\n",
       "  </tbody>\n",
       "</table>\n",
       "</div>"
      ],
      "text/plain": [
       "   Item_Weight  Item_Visibility  Item_MRP  Outlet_Establishment_Year  \\\n",
       "0         9.30         0.016047  249.8092                       1999   \n",
       "1         5.92         0.019278   48.2692                       2009   \n",
       "2        17.50         0.016760  141.6180                       1999   \n",
       "\n",
       "   Item_Outlet_Sales  \n",
       "0          3735.1380  \n",
       "1           443.4228  \n",
       "2          2097.2700  "
      ]
     },
     "execution_count": 15,
     "metadata": {},
     "output_type": "execute_result"
    }
   ],
   "source": [
    "data[conti_feature].head(3)"
   ]
  },
  {
   "cell_type": "code",
   "execution_count": 16,
   "metadata": {
    "scrolled": true
   },
   "outputs": [
    {
     "name": "stdout",
     "output_type": "stream",
     "text": [
      "no. of continuous feature with missing value 1\n",
      "no of missing value in that continuous feature is Item_Weight    1463\n",
      "dtype: int64\n"
     ]
    }
   ],
   "source": [
    "conti_feature_nan = [feature for feature in conti_feature if data[feature].isnull().sum()>0]\n",
    "print('no. of continuous feature with missing value',len(conti_feature_nan))\n",
    "print('no of missing value in that continuous feature is {}'.format(data[conti_feature_nan].isnull().sum()))"
   ]
  },
  {
   "cell_type": "code",
   "execution_count": 17,
   "metadata": {},
   "outputs": [
    {
     "data": {
      "text/html": [
       "<div>\n",
       "<style scoped>\n",
       "    .dataframe tbody tr th:only-of-type {\n",
       "        vertical-align: middle;\n",
       "    }\n",
       "\n",
       "    .dataframe tbody tr th {\n",
       "        vertical-align: top;\n",
       "    }\n",
       "\n",
       "    .dataframe thead th {\n",
       "        text-align: right;\n",
       "    }\n",
       "</style>\n",
       "<table border=\"1\" class=\"dataframe\">\n",
       "  <thead>\n",
       "    <tr style=\"text-align: right;\">\n",
       "      <th></th>\n",
       "      <th>Item_Weight</th>\n",
       "    </tr>\n",
       "  </thead>\n",
       "  <tbody>\n",
       "    <tr>\n",
       "      <th>0</th>\n",
       "      <td>9.30</td>\n",
       "    </tr>\n",
       "    <tr>\n",
       "      <th>1</th>\n",
       "      <td>5.92</td>\n",
       "    </tr>\n",
       "  </tbody>\n",
       "</table>\n",
       "</div>"
      ],
      "text/plain": [
       "   Item_Weight\n",
       "0         9.30\n",
       "1         5.92"
      ]
     },
     "execution_count": 17,
     "metadata": {},
     "output_type": "execute_result"
    }
   ],
   "source": [
    "data[conti_feature_nan].head(2)"
   ]
  },
  {
   "cell_type": "code",
   "execution_count": 18,
   "metadata": {},
   "outputs": [
    {
     "name": "stdout",
     "output_type": "stream",
     "text": [
      "   Item_Weight\n",
      "0         9.30\n",
      "1         5.92\n",
      "Item_Weight    0\n",
      "dtype: int64\n"
     ]
    }
   ],
   "source": [
    "for feature in conti_feature_nan: #filled the missing value with mean and printed the result, n again chcked for missing vlu\n",
    "    data[feature] = data[feature].fillna(data[feature].mean())\n",
    "print(data[conti_feature_nan].head(2))\n",
    "print(data[conti_feature_nan].isnull().sum())"
   ]
  },
  {
   "cell_type": "markdown",
   "metadata": {},
   "source": [
    "#### Working with missing value in categorical variable and imputing it"
   ]
  },
  {
   "cell_type": "code",
   "execution_count": 19,
   "metadata": {},
   "outputs": [
    {
     "data": {
      "text/html": [
       "<div>\n",
       "<style scoped>\n",
       "    .dataframe tbody tr th:only-of-type {\n",
       "        vertical-align: middle;\n",
       "    }\n",
       "\n",
       "    .dataframe tbody tr th {\n",
       "        vertical-align: top;\n",
       "    }\n",
       "\n",
       "    .dataframe thead th {\n",
       "        text-align: right;\n",
       "    }\n",
       "</style>\n",
       "<table border=\"1\" class=\"dataframe\">\n",
       "  <thead>\n",
       "    <tr style=\"text-align: right;\">\n",
       "      <th></th>\n",
       "      <th>Item_Identifier</th>\n",
       "      <th>Item_Fat_Content</th>\n",
       "      <th>Item_Type</th>\n",
       "      <th>Outlet_Identifier</th>\n",
       "      <th>Outlet_Size</th>\n",
       "      <th>Outlet_Location_Type</th>\n",
       "      <th>Outlet_Type</th>\n",
       "    </tr>\n",
       "  </thead>\n",
       "  <tbody>\n",
       "    <tr>\n",
       "      <th>0</th>\n",
       "      <td>FDA15</td>\n",
       "      <td>Low Fat</td>\n",
       "      <td>Dairy</td>\n",
       "      <td>OUT049</td>\n",
       "      <td>Medium</td>\n",
       "      <td>Tier 1</td>\n",
       "      <td>Supermarket Type1</td>\n",
       "    </tr>\n",
       "    <tr>\n",
       "      <th>1</th>\n",
       "      <td>DRC01</td>\n",
       "      <td>Regular</td>\n",
       "      <td>Soft Drinks</td>\n",
       "      <td>OUT018</td>\n",
       "      <td>Medium</td>\n",
       "      <td>Tier 3</td>\n",
       "      <td>Supermarket Type2</td>\n",
       "    </tr>\n",
       "    <tr>\n",
       "      <th>2</th>\n",
       "      <td>FDN15</td>\n",
       "      <td>Low Fat</td>\n",
       "      <td>Meat</td>\n",
       "      <td>OUT049</td>\n",
       "      <td>Medium</td>\n",
       "      <td>Tier 1</td>\n",
       "      <td>Supermarket Type1</td>\n",
       "    </tr>\n",
       "    <tr>\n",
       "      <th>3</th>\n",
       "      <td>FDX07</td>\n",
       "      <td>Regular</td>\n",
       "      <td>Fruits and Vegetables</td>\n",
       "      <td>OUT010</td>\n",
       "      <td>NaN</td>\n",
       "      <td>Tier 3</td>\n",
       "      <td>Grocery Store</td>\n",
       "    </tr>\n",
       "    <tr>\n",
       "      <th>4</th>\n",
       "      <td>NCD19</td>\n",
       "      <td>Low Fat</td>\n",
       "      <td>Household</td>\n",
       "      <td>OUT013</td>\n",
       "      <td>High</td>\n",
       "      <td>Tier 3</td>\n",
       "      <td>Supermarket Type1</td>\n",
       "    </tr>\n",
       "  </tbody>\n",
       "</table>\n",
       "</div>"
      ],
      "text/plain": [
       "  Item_Identifier Item_Fat_Content              Item_Type Outlet_Identifier  \\\n",
       "0           FDA15          Low Fat                  Dairy            OUT049   \n",
       "1           DRC01          Regular            Soft Drinks            OUT018   \n",
       "2           FDN15          Low Fat                   Meat            OUT049   \n",
       "3           FDX07          Regular  Fruits and Vegetables            OUT010   \n",
       "4           NCD19          Low Fat              Household            OUT013   \n",
       "\n",
       "  Outlet_Size Outlet_Location_Type        Outlet_Type  \n",
       "0      Medium               Tier 1  Supermarket Type1  \n",
       "1      Medium               Tier 3  Supermarket Type2  \n",
       "2      Medium               Tier 1  Supermarket Type1  \n",
       "3         NaN               Tier 3      Grocery Store  \n",
       "4        High               Tier 3  Supermarket Type1  "
      ]
     },
     "execution_count": 19,
     "metadata": {},
     "output_type": "execute_result"
    }
   ],
   "source": [
    "data[cate_feature].head()"
   ]
  },
  {
   "cell_type": "code",
   "execution_count": 20,
   "metadata": {},
   "outputs": [
    {
     "name": "stdout",
     "output_type": "stream",
     "text": [
      "no of categorical feature with missing value 1\n",
      "no of missing value in that categorical feature is Outlet_Size    2410\n",
      "dtype: int64\n"
     ]
    }
   ],
   "source": [
    "cate_feature_nan = [feature for feature in cate_feature if data[feature].isnull().sum()>0]\n",
    "print('no of categorical feature with missing value',len(cate_feature_nan))\n",
    "print('no of missing value in that categorical feature is {}'.format(data[cate_feature_nan].isnull().sum()))"
   ]
  },
  {
   "cell_type": "code",
   "execution_count": 21,
   "metadata": {},
   "outputs": [
    {
     "data": {
      "text/html": [
       "<div>\n",
       "<style scoped>\n",
       "    .dataframe tbody tr th:only-of-type {\n",
       "        vertical-align: middle;\n",
       "    }\n",
       "\n",
       "    .dataframe tbody tr th {\n",
       "        vertical-align: top;\n",
       "    }\n",
       "\n",
       "    .dataframe thead th {\n",
       "        text-align: right;\n",
       "    }\n",
       "</style>\n",
       "<table border=\"1\" class=\"dataframe\">\n",
       "  <thead>\n",
       "    <tr style=\"text-align: right;\">\n",
       "      <th></th>\n",
       "      <th>Outlet_Size</th>\n",
       "    </tr>\n",
       "  </thead>\n",
       "  <tbody>\n",
       "    <tr>\n",
       "      <th>0</th>\n",
       "      <td>Medium</td>\n",
       "    </tr>\n",
       "    <tr>\n",
       "      <th>1</th>\n",
       "      <td>Medium</td>\n",
       "    </tr>\n",
       "  </tbody>\n",
       "</table>\n",
       "</div>"
      ],
      "text/plain": [
       "  Outlet_Size\n",
       "0      Medium\n",
       "1      Medium"
      ]
     },
     "execution_count": 21,
     "metadata": {},
     "output_type": "execute_result"
    }
   ],
   "source": [
    "data[cate_feature_nan].head(2)"
   ]
  },
  {
   "cell_type": "code",
   "execution_count": 22,
   "metadata": {},
   "outputs": [
    {
     "data": {
      "text/html": [
       "<div>\n",
       "<style scoped>\n",
       "    .dataframe tbody tr th:only-of-type {\n",
       "        vertical-align: middle;\n",
       "    }\n",
       "\n",
       "    .dataframe tbody tr th {\n",
       "        vertical-align: top;\n",
       "    }\n",
       "\n",
       "    .dataframe thead th {\n",
       "        text-align: right;\n",
       "    }\n",
       "</style>\n",
       "<table border=\"1\" class=\"dataframe\">\n",
       "  <thead>\n",
       "    <tr style=\"text-align: right;\">\n",
       "      <th></th>\n",
       "      <th>Outlet_Size</th>\n",
       "    </tr>\n",
       "  </thead>\n",
       "  <tbody>\n",
       "    <tr>\n",
       "      <th>0</th>\n",
       "      <td>Medium</td>\n",
       "    </tr>\n",
       "    <tr>\n",
       "      <th>1</th>\n",
       "      <td>Medium</td>\n",
       "    </tr>\n",
       "    <tr>\n",
       "      <th>2</th>\n",
       "      <td>Medium</td>\n",
       "    </tr>\n",
       "    <tr>\n",
       "      <th>3</th>\n",
       "      <td>Missing</td>\n",
       "    </tr>\n",
       "    <tr>\n",
       "      <th>4</th>\n",
       "      <td>High</td>\n",
       "    </tr>\n",
       "  </tbody>\n",
       "</table>\n",
       "</div>"
      ],
      "text/plain": [
       "  Outlet_Size\n",
       "0      Medium\n",
       "1      Medium\n",
       "2      Medium\n",
       "3     Missing\n",
       "4        High"
      ]
     },
     "execution_count": 22,
     "metadata": {},
     "output_type": "execute_result"
    }
   ],
   "source": [
    "for feature in cate_feature_nan: #just filled all missing cate. variable with term as 'Missing'\n",
    "    data[feature] = data[feature].fillna('Missing')\n",
    "data[cate_feature_nan].head(5)"
   ]
  },
  {
   "cell_type": "code",
   "execution_count": 23,
   "metadata": {},
   "outputs": [
    {
     "data": {
      "text/plain": [
       "Outlet_Size    0\n",
       "dtype: int64"
      ]
     },
     "execution_count": 23,
     "metadata": {},
     "output_type": "execute_result"
    }
   ],
   "source": [
    "data[cate_feature_nan].isnull().sum()  #hence now no missing value in this column "
   ]
  },
  {
   "cell_type": "markdown",
   "metadata": {},
   "source": [
    "## Working with continuous variable"
   ]
  },
  {
   "cell_type": "code",
   "execution_count": 24,
   "metadata": {
    "scrolled": true
   },
   "outputs": [
    {
     "data": {
      "text/html": [
       "<div>\n",
       "<style scoped>\n",
       "    .dataframe tbody tr th:only-of-type {\n",
       "        vertical-align: middle;\n",
       "    }\n",
       "\n",
       "    .dataframe tbody tr th {\n",
       "        vertical-align: top;\n",
       "    }\n",
       "\n",
       "    .dataframe thead th {\n",
       "        text-align: right;\n",
       "    }\n",
       "</style>\n",
       "<table border=\"1\" class=\"dataframe\">\n",
       "  <thead>\n",
       "    <tr style=\"text-align: right;\">\n",
       "      <th></th>\n",
       "      <th>Item_Weight</th>\n",
       "      <th>Item_Visibility</th>\n",
       "      <th>Item_MRP</th>\n",
       "      <th>Outlet_Establishment_Year</th>\n",
       "      <th>Item_Outlet_Sales</th>\n",
       "    </tr>\n",
       "  </thead>\n",
       "  <tbody>\n",
       "    <tr>\n",
       "      <th>0</th>\n",
       "      <td>9.30</td>\n",
       "      <td>0.016047</td>\n",
       "      <td>249.8092</td>\n",
       "      <td>1999</td>\n",
       "      <td>3735.1380</td>\n",
       "    </tr>\n",
       "    <tr>\n",
       "      <th>1</th>\n",
       "      <td>5.92</td>\n",
       "      <td>0.019278</td>\n",
       "      <td>48.2692</td>\n",
       "      <td>2009</td>\n",
       "      <td>443.4228</td>\n",
       "    </tr>\n",
       "    <tr>\n",
       "      <th>2</th>\n",
       "      <td>17.50</td>\n",
       "      <td>0.016760</td>\n",
       "      <td>141.6180</td>\n",
       "      <td>1999</td>\n",
       "      <td>2097.2700</td>\n",
       "    </tr>\n",
       "    <tr>\n",
       "      <th>3</th>\n",
       "      <td>19.20</td>\n",
       "      <td>0.000000</td>\n",
       "      <td>182.0950</td>\n",
       "      <td>1998</td>\n",
       "      <td>732.3800</td>\n",
       "    </tr>\n",
       "    <tr>\n",
       "      <th>4</th>\n",
       "      <td>8.93</td>\n",
       "      <td>0.000000</td>\n",
       "      <td>53.8614</td>\n",
       "      <td>1987</td>\n",
       "      <td>994.7052</td>\n",
       "    </tr>\n",
       "  </tbody>\n",
       "</table>\n",
       "</div>"
      ],
      "text/plain": [
       "   Item_Weight  Item_Visibility  Item_MRP  Outlet_Establishment_Year  \\\n",
       "0         9.30         0.016047  249.8092                       1999   \n",
       "1         5.92         0.019278   48.2692                       2009   \n",
       "2        17.50         0.016760  141.6180                       1999   \n",
       "3        19.20         0.000000  182.0950                       1998   \n",
       "4         8.93         0.000000   53.8614                       1987   \n",
       "\n",
       "   Item_Outlet_Sales  \n",
       "0          3735.1380  \n",
       "1           443.4228  \n",
       "2          2097.2700  \n",
       "3           732.3800  \n",
       "4           994.7052  "
      ]
     },
     "execution_count": 24,
     "metadata": {},
     "output_type": "execute_result"
    }
   ],
   "source": [
    "data[conti_feature].head()"
   ]
  },
  {
   "cell_type": "markdown",
   "metadata": {},
   "source": [
    "### 1. skewness to symmetrical using log, square root and cube root transformation (variable transformation)"
   ]
  },
  {
   "cell_type": "code",
   "execution_count": 25,
   "metadata": {},
   "outputs": [],
   "source": [
    "# for feature in conti_feature:        #using logarithmeic transformation on conti feature \n",
    "#     data1 = data.copy()\n",
    "#     if 0 in data1[feature].unique():\n",
    "#         pass\n",
    "#     else:\n",
    "#         data1[feature] = np.log(data1[feature]).hist()\n",
    "#         plt.xlabel(feature)\n",
    "#         plt.ylabel('Item_Outlet_Sales')\n",
    "#         plt.title(feature)\n",
    "#         plt.show()"
   ]
  },
  {
   "cell_type": "code",
   "execution_count": 26,
   "metadata": {},
   "outputs": [],
   "source": [
    "# for feature in conti_feature:                             # variable transformation - square root\n",
    "#     data1 = data.copy()                                     \n",
    "#     data1[feature] = np.sqrt(data1[feature]).hist()\n",
    "#     plt.xlabel(feature)\n",
    "#     plt.ylabel('Item_Outlet_Sales')\n",
    "#     plt.title(feature)\n",
    "#     plt.show()"
   ]
  },
  {
   "cell_type": "code",
   "execution_count": 27,
   "metadata": {},
   "outputs": [],
   "source": [
    "# for feature in conti_feature:                        #variable transformation - cube root\n",
    "#     data1 = data.copy()\n",
    "#     data1[feature] = np.power(data1[feature],1/3).hist()\n",
    "#     plt.xlabel(feature)\n",
    "#     plt.ylabel('Item_outlet_sales')\n",
    "#     plt.title(feature)\n",
    "#     plt.show()"
   ]
  },
  {
   "cell_type": "code",
   "execution_count": 28,
   "metadata": {},
   "outputs": [],
   "source": [
    "# for feature in conti_feature:        #we have selected sqrt root transformation as our variable transformation \n",
    "#     data1 = data.copy()                  #since it gives more symmetric results\n",
    "#     data1[feature] = np.sqrt(data1[feature])\n",
    "#     data1['Item_Outlet_Sales'] = np.sqrt(data1['Item_Outlet_Sales'])\n",
    "#     plt.scatter(data1[feature],data1['Item_Outlet_Sales'])\n",
    "#     plt.xlabel(feature)\n",
    "#     plt.ylabel('Item_Outelt_Sales')\n",
    "#     plt.title(feature)\n",
    "#     plt.show()"
   ]
  },
  {
   "cell_type": "code",
   "execution_count": 29,
   "metadata": {},
   "outputs": [
    {
     "data": {
      "text/html": [
       "<div>\n",
       "<style scoped>\n",
       "    .dataframe tbody tr th:only-of-type {\n",
       "        vertical-align: middle;\n",
       "    }\n",
       "\n",
       "    .dataframe tbody tr th {\n",
       "        vertical-align: top;\n",
       "    }\n",
       "\n",
       "    .dataframe thead th {\n",
       "        text-align: right;\n",
       "    }\n",
       "</style>\n",
       "<table border=\"1\" class=\"dataframe\">\n",
       "  <thead>\n",
       "    <tr style=\"text-align: right;\">\n",
       "      <th></th>\n",
       "      <th>Item_Weight</th>\n",
       "      <th>Item_Visibility</th>\n",
       "      <th>Item_MRP</th>\n",
       "      <th>Outlet_Establishment_Year</th>\n",
       "      <th>Item_Outlet_Sales</th>\n",
       "    </tr>\n",
       "  </thead>\n",
       "  <tbody>\n",
       "    <tr>\n",
       "      <th>0</th>\n",
       "      <td>9.30</td>\n",
       "      <td>0.016047</td>\n",
       "      <td>249.8092</td>\n",
       "      <td>1999</td>\n",
       "      <td>3735.1380</td>\n",
       "    </tr>\n",
       "    <tr>\n",
       "      <th>1</th>\n",
       "      <td>5.92</td>\n",
       "      <td>0.019278</td>\n",
       "      <td>48.2692</td>\n",
       "      <td>2009</td>\n",
       "      <td>443.4228</td>\n",
       "    </tr>\n",
       "    <tr>\n",
       "      <th>2</th>\n",
       "      <td>17.50</td>\n",
       "      <td>0.016760</td>\n",
       "      <td>141.6180</td>\n",
       "      <td>1999</td>\n",
       "      <td>2097.2700</td>\n",
       "    </tr>\n",
       "    <tr>\n",
       "      <th>3</th>\n",
       "      <td>19.20</td>\n",
       "      <td>0.000000</td>\n",
       "      <td>182.0950</td>\n",
       "      <td>1998</td>\n",
       "      <td>732.3800</td>\n",
       "    </tr>\n",
       "    <tr>\n",
       "      <th>4</th>\n",
       "      <td>8.93</td>\n",
       "      <td>0.000000</td>\n",
       "      <td>53.8614</td>\n",
       "      <td>1987</td>\n",
       "      <td>994.7052</td>\n",
       "    </tr>\n",
       "  </tbody>\n",
       "</table>\n",
       "</div>"
      ],
      "text/plain": [
       "   Item_Weight  Item_Visibility  Item_MRP  Outlet_Establishment_Year  \\\n",
       "0         9.30         0.016047  249.8092                       1999   \n",
       "1         5.92         0.019278   48.2692                       2009   \n",
       "2        17.50         0.016760  141.6180                       1999   \n",
       "3        19.20         0.000000  182.0950                       1998   \n",
       "4         8.93         0.000000   53.8614                       1987   \n",
       "\n",
       "   Item_Outlet_Sales  \n",
       "0          3735.1380  \n",
       "1           443.4228  \n",
       "2          2097.2700  \n",
       "3           732.3800  \n",
       "4           994.7052  "
      ]
     },
     "execution_count": 29,
     "metadata": {},
     "output_type": "execute_result"
    }
   ],
   "source": [
    "data[conti_feature].head(5)"
   ]
  },
  {
   "cell_type": "markdown",
   "metadata": {},
   "source": [
    "### 2. outliers"
   ]
  },
  {
   "cell_type": "code",
   "execution_count": 30,
   "metadata": {},
   "outputs": [
    {
     "data": {
      "text/html": [
       "<div>\n",
       "<style scoped>\n",
       "    .dataframe tbody tr th:only-of-type {\n",
       "        vertical-align: middle;\n",
       "    }\n",
       "\n",
       "    .dataframe tbody tr th {\n",
       "        vertical-align: top;\n",
       "    }\n",
       "\n",
       "    .dataframe thead th {\n",
       "        text-align: right;\n",
       "    }\n",
       "</style>\n",
       "<table border=\"1\" class=\"dataframe\">\n",
       "  <thead>\n",
       "    <tr style=\"text-align: right;\">\n",
       "      <th></th>\n",
       "      <th>Item_Weight</th>\n",
       "      <th>Item_Visibility</th>\n",
       "      <th>Item_MRP</th>\n",
       "      <th>Outlet_Establishment_Year</th>\n",
       "      <th>Item_Outlet_Sales</th>\n",
       "    </tr>\n",
       "  </thead>\n",
       "  <tbody>\n",
       "    <tr>\n",
       "      <th>0</th>\n",
       "      <td>9.30</td>\n",
       "      <td>0.016047</td>\n",
       "      <td>249.8092</td>\n",
       "      <td>1999</td>\n",
       "      <td>3735.1380</td>\n",
       "    </tr>\n",
       "    <tr>\n",
       "      <th>1</th>\n",
       "      <td>5.92</td>\n",
       "      <td>0.019278</td>\n",
       "      <td>48.2692</td>\n",
       "      <td>2009</td>\n",
       "      <td>443.4228</td>\n",
       "    </tr>\n",
       "    <tr>\n",
       "      <th>2</th>\n",
       "      <td>17.50</td>\n",
       "      <td>0.016760</td>\n",
       "      <td>141.6180</td>\n",
       "      <td>1999</td>\n",
       "      <td>2097.2700</td>\n",
       "    </tr>\n",
       "    <tr>\n",
       "      <th>3</th>\n",
       "      <td>19.20</td>\n",
       "      <td>0.000000</td>\n",
       "      <td>182.0950</td>\n",
       "      <td>1998</td>\n",
       "      <td>732.3800</td>\n",
       "    </tr>\n",
       "    <tr>\n",
       "      <th>4</th>\n",
       "      <td>8.93</td>\n",
       "      <td>0.000000</td>\n",
       "      <td>53.8614</td>\n",
       "      <td>1987</td>\n",
       "      <td>994.7052</td>\n",
       "    </tr>\n",
       "  </tbody>\n",
       "</table>\n",
       "</div>"
      ],
      "text/plain": [
       "   Item_Weight  Item_Visibility  Item_MRP  Outlet_Establishment_Year  \\\n",
       "0         9.30         0.016047  249.8092                       1999   \n",
       "1         5.92         0.019278   48.2692                       2009   \n",
       "2        17.50         0.016760  141.6180                       1999   \n",
       "3        19.20         0.000000  182.0950                       1998   \n",
       "4         8.93         0.000000   53.8614                       1987   \n",
       "\n",
       "   Item_Outlet_Sales  \n",
       "0          3735.1380  \n",
       "1           443.4228  \n",
       "2          2097.2700  \n",
       "3           732.3800  \n",
       "4           994.7052  "
      ]
     },
     "execution_count": 30,
     "metadata": {},
     "output_type": "execute_result"
    }
   ],
   "source": [
    "data[conti_feature].head()"
   ]
  },
  {
   "cell_type": "code",
   "execution_count": 31,
   "metadata": {},
   "outputs": [
    {
     "data": {
      "text/plain": [
       "<matplotlib.axes._subplots.AxesSubplot at 0x12d11fcaac8>"
      ]
     },
     "execution_count": 31,
     "metadata": {},
     "output_type": "execute_result"
    },
    {
     "data": {
      "image/png": "[encoded data removed]",
      "text/plain": [
       "<Figure size 432x288 with 1 Axes>"
      ]
     },
     "metadata": {
      "needs_background": "light"
     },
     "output_type": "display_data"
    }
   ],
   "source": [
    "data['Item_Visibility'].plot.box()  #just for checking purpose"
   ]
  },
  {
   "cell_type": "code",
   "execution_count": 32,
   "metadata": {},
   "outputs": [
    {
     "data": {
      "text/plain": [
       "<matplotlib.axes._subplots.AxesSubplot at 0x12d11f24c88>"
      ]
     },
     "execution_count": 32,
     "metadata": {},
     "output_type": "execute_result"
    },
    {
     "data": {
      "image/png": "[encoded data removed]",
      "text/plain": [
       "<Figure size 432x288 with 1 Axes>"
      ]
     },
     "metadata": {
      "needs_background": "light"
     },
     "output_type": "display_data"
    }
   ],
   "source": [
    "data.loc[data['Item_Visibility']>0.17,'Item_Visibility'] = np.mean(data['Item_Visibility'])\n",
    "data['Item_Visibility'].plot.box()"
   ]
  },
  {
   "cell_type": "code",
   "execution_count": 33,
   "metadata": {},
   "outputs": [
    {
     "data": {
      "text/plain": [
       "<matplotlib.axes._subplots.AxesSubplot at 0x12d121bb248>"
      ]
     },
     "execution_count": 33,
     "metadata": {},
     "output_type": "execute_result"
    },
    {
     "data": {
      "image/png": "[encoded data removed]",
      "text/plain": [
       "<Figure size 432x288 with 1 Axes>"
      ]
     },
     "metadata": {
      "needs_background": "light"
     },
     "output_type": "display_data"
    }
   ],
   "source": [
    "data.loc[data['Item_Outlet_Sales']>5800,'Item_Outlet_Sales'] = np.mean(data['Item_Outlet_Sales'])\n",
    "data['Item_Outlet_Sales'].plot.box()"
   ]
  },
  {
   "cell_type": "markdown",
   "metadata": {},
   "source": [
    "## Working with categorical variable"
   ]
  },
  {
   "cell_type": "code",
   "execution_count": 34,
   "metadata": {},
   "outputs": [
    {
     "data": {
      "text/html": [
       "<div>\n",
       "<style scoped>\n",
       "    .dataframe tbody tr th:only-of-type {\n",
       "        vertical-align: middle;\n",
       "    }\n",
       "\n",
       "    .dataframe tbody tr th {\n",
       "        vertical-align: top;\n",
       "    }\n",
       "\n",
       "    .dataframe thead th {\n",
       "        text-align: right;\n",
       "    }\n",
       "</style>\n",
       "<table border=\"1\" class=\"dataframe\">\n",
       "  <thead>\n",
       "    <tr style=\"text-align: right;\">\n",
       "      <th></th>\n",
       "      <th>Item_Identifier</th>\n",
       "      <th>Item_Fat_Content</th>\n",
       "      <th>Item_Type</th>\n",
       "      <th>Outlet_Identifier</th>\n",
       "      <th>Outlet_Size</th>\n",
       "      <th>Outlet_Location_Type</th>\n",
       "      <th>Outlet_Type</th>\n",
       "    </tr>\n",
       "  </thead>\n",
       "  <tbody>\n",
       "    <tr>\n",
       "      <th>0</th>\n",
       "      <td>FDA15</td>\n",
       "      <td>Low Fat</td>\n",
       "      <td>Dairy</td>\n",
       "      <td>OUT049</td>\n",
       "      <td>Medium</td>\n",
       "      <td>Tier 1</td>\n",
       "      <td>Supermarket Type1</td>\n",
       "    </tr>\n",
       "    <tr>\n",
       "      <th>1</th>\n",
       "      <td>DRC01</td>\n",
       "      <td>Regular</td>\n",
       "      <td>Soft Drinks</td>\n",
       "      <td>OUT018</td>\n",
       "      <td>Medium</td>\n",
       "      <td>Tier 3</td>\n",
       "      <td>Supermarket Type2</td>\n",
       "    </tr>\n",
       "    <tr>\n",
       "      <th>2</th>\n",
       "      <td>FDN15</td>\n",
       "      <td>Low Fat</td>\n",
       "      <td>Meat</td>\n",
       "      <td>OUT049</td>\n",
       "      <td>Medium</td>\n",
       "      <td>Tier 1</td>\n",
       "      <td>Supermarket Type1</td>\n",
       "    </tr>\n",
       "    <tr>\n",
       "      <th>3</th>\n",
       "      <td>FDX07</td>\n",
       "      <td>Regular</td>\n",
       "      <td>Fruits and Vegetables</td>\n",
       "      <td>OUT010</td>\n",
       "      <td>Missing</td>\n",
       "      <td>Tier 3</td>\n",
       "      <td>Grocery Store</td>\n",
       "    </tr>\n",
       "    <tr>\n",
       "      <th>4</th>\n",
       "      <td>NCD19</td>\n",
       "      <td>Low Fat</td>\n",
       "      <td>Household</td>\n",
       "      <td>OUT013</td>\n",
       "      <td>High</td>\n",
       "      <td>Tier 3</td>\n",
       "      <td>Supermarket Type1</td>\n",
       "    </tr>\n",
       "  </tbody>\n",
       "</table>\n",
       "</div>"
      ],
      "text/plain": [
       "  Item_Identifier Item_Fat_Content              Item_Type Outlet_Identifier  \\\n",
       "0           FDA15          Low Fat                  Dairy            OUT049   \n",
       "1           DRC01          Regular            Soft Drinks            OUT018   \n",
       "2           FDN15          Low Fat                   Meat            OUT049   \n",
       "3           FDX07          Regular  Fruits and Vegetables            OUT010   \n",
       "4           NCD19          Low Fat              Household            OUT013   \n",
       "\n",
       "  Outlet_Size Outlet_Location_Type        Outlet_Type  \n",
       "0      Medium               Tier 1  Supermarket Type1  \n",
       "1      Medium               Tier 3  Supermarket Type2  \n",
       "2      Medium               Tier 1  Supermarket Type1  \n",
       "3     Missing               Tier 3      Grocery Store  \n",
       "4        High               Tier 3  Supermarket Type1  "
      ]
     },
     "execution_count": 34,
     "metadata": {},
     "output_type": "execute_result"
    }
   ],
   "source": [
    "data[cate_feature].head(5)"
   ]
  },
  {
   "cell_type": "code",
   "execution_count": 35,
   "metadata": {
    "scrolled": true
   },
   "outputs": [
    {
     "name": "stdout",
     "output_type": "stream",
     "text": [
      "Item_Identifier : 1559 labels\n",
      "Item_Fat_Content : 5 labels\n",
      "Item_Type : 16 labels\n",
      "Outlet_Identifier : 10 labels\n",
      "Outlet_Size : 4 labels\n",
      "Outlet_Location_Type : 3 labels\n",
      "Outlet_Type : 4 labels\n"
     ]
    }
   ],
   "source": [
    "for col in data[cate_feature].columns:              #in order to check that how many labels each categorical feature has \n",
    "    print(col ,':' ,len(data[col].unique()),'labels')        #data[col] give us the values inside the dataset col. by col."
   ]
  },
  {
   "cell_type": "markdown",
   "metadata": {},
   "source": [
    "##### use count/frequency encoding in 'Item Identifier' col since it has large unique values which couldn't be handled that well by label encoding(as it is more useful for those categories which has lesser no. of labels). Dont use get_dummies cz it will increse our column nos. alot and if the column no. (feature) gets increases then it will disturb the dimensionality of the model leading to a bad accuracy. We could also use COMBINE SPARSE CLASS TECHNIQUE which I be writiing that after this codes as a comment(combine sparse class does the same thing by counting the label no. in a feature but it also removes those labels from a column which contributes 0.01% less to the dataset"
   ]
  },
  {
   "cell_type": "markdown",
   "metadata": {},
   "source": [
    "#### Count/Frequency encoding technique - Technique 1"
   ]
  },
  {
   "cell_type": "code",
   "execution_count": 36,
   "metadata": {},
   "outputs": [
    {
     "data": {
      "text/plain": [
       "{'FDW13': 10,\n",
       " 'FDG33': 10,\n",
       " 'NCY18': 9,\n",
       " 'NCB18': 9,\n",
       " 'FDW26': 9,\n",
       " 'FDX04': 9,\n",
       " 'NCI54': 9,\n",
       " 'FDF56': 9,\n",
       " 'FDW49': 9,\n",
       " 'FDV38': 9,\n",
       " 'NCJ30': 9,\n",
       " 'FDO19': 9,\n",
       " 'DRN47': 9,\n",
       " 'FDD38': 9,\n",
       " 'FDG09': 9,\n",
       " 'FDQ40': 9,\n",
       " 'DRE49': 9,\n",
       " 'NCF42': 9,\n",
       " 'FDF52': 9,\n",
       " 'FDU12': 9,\n",
       " 'NCL31': 9,\n",
       " 'FDP25': 9,\n",
       " 'FDX31': 9,\n",
       " 'FDV60': 9,\n",
       " 'NCQ06': 9,\n",
       " 'FDT07': 9,\n",
       " 'FDX20': 9,\n",
       " 'FDA50': 8,\n",
       " 'FDT32': 8,\n",
       " 'DRA59': 8,\n",
       " 'NCC18': 8,\n",
       " 'NCK53': 8,\n",
       " 'NCP05': 8,\n",
       " 'FDL58': 8,\n",
       " 'FDR44': 8,\n",
       " 'FDK58': 8,\n",
       " 'DRI03': 8,\n",
       " 'NCM07': 8,\n",
       " 'FDS52': 8,\n",
       " 'FDT24': 8,\n",
       " 'FDA39': 8,\n",
       " 'FDV26': 8,\n",
       " 'FDW24': 8,\n",
       " 'DRJ24': 8,\n",
       " 'FDT49': 8,\n",
       " 'NCX05': 8,\n",
       " 'FDZ20': 8,\n",
       " 'FDS55': 8,\n",
       " 'FDX45': 8,\n",
       " 'FDR52': 8,\n",
       " 'FDY03': 8,\n",
       " 'FDA44': 8,\n",
       " 'NCX29': 8,\n",
       " 'NCQ43': 8,\n",
       " 'FDO10': 8,\n",
       " 'DRK12': 8,\n",
       " 'FDT40': 8,\n",
       " 'NCE31': 8,\n",
       " 'NCS53': 8,\n",
       " 'FDI22': 8,\n",
       " 'NCV06': 8,\n",
       " 'FDX50': 8,\n",
       " 'FDR46': 8,\n",
       " 'NCO54': 8,\n",
       " 'FDG57': 8,\n",
       " 'FDH33': 8,\n",
       " 'FDL34': 8,\n",
       " 'NCK29': 8,\n",
       " 'FDB17': 8,\n",
       " 'FDF04': 8,\n",
       " 'FDR59': 8,\n",
       " 'FDA04': 8,\n",
       " 'DRF03': 8,\n",
       " 'FDQ39': 8,\n",
       " 'FDL20': 8,\n",
       " 'FDF16': 8,\n",
       " 'FDO32': 8,\n",
       " 'DRP35': 8,\n",
       " 'FDU19': 8,\n",
       " 'FDH28': 8,\n",
       " 'DRF01': 8,\n",
       " 'FDJ58': 8,\n",
       " 'DRD25': 8,\n",
       " 'FDJ55': 8,\n",
       " 'FDZ21': 8,\n",
       " 'FDW48': 8,\n",
       " 'FDR48': 8,\n",
       " 'FDZ26': 8,\n",
       " 'FDO52': 8,\n",
       " 'NCQ05': 8,\n",
       " 'FDE11': 8,\n",
       " 'FDZ33': 8,\n",
       " 'FDX58': 8,\n",
       " 'NCE54': 8,\n",
       " 'FDG38': 8,\n",
       " 'FDO37': 8,\n",
       " 'FDX21': 8,\n",
       " 'DRF23': 8,\n",
       " 'NCI29': 8,\n",
       " 'FDK20': 8,\n",
       " 'DRK35': 8,\n",
       " 'FDI41': 8,\n",
       " 'FDU13': 8,\n",
       " 'FDY47': 8,\n",
       " 'NCK05': 8,\n",
       " 'FDR43': 8,\n",
       " 'NCV41': 8,\n",
       " 'FDG24': 8,\n",
       " 'NCB31': 8,\n",
       " 'FDL10': 8,\n",
       " 'FDY55': 8,\n",
       " 'FDH27': 8,\n",
       " 'NCL53': 8,\n",
       " 'NCY29': 8,\n",
       " 'FDR23': 8,\n",
       " 'FDN56': 8,\n",
       " 'FDA15': 8,\n",
       " 'FDF22': 8,\n",
       " 'FDY49': 8,\n",
       " 'FDD05': 8,\n",
       " 'FDY56': 8,\n",
       " 'FDF05': 8,\n",
       " 'DRF27': 8,\n",
       " 'FDT21': 8,\n",
       " 'FDT55': 8,\n",
       " 'FDA13': 8,\n",
       " 'FDU23': 8,\n",
       " 'FDR04': 8,\n",
       " 'FDD29': 8,\n",
       " 'FDP28': 8,\n",
       " 'FDJ44': 8,\n",
       " 'FDV20': 8,\n",
       " 'FDC14': 8,\n",
       " 'FDS33': 8,\n",
       " 'FDV09': 8,\n",
       " 'FDH10': 8,\n",
       " 'FDP11': 8,\n",
       " 'FDT25': 7,\n",
       " 'FDW12': 7,\n",
       " 'DRA24': 7,\n",
       " 'NCH30': 7,\n",
       " 'FDN04': 7,\n",
       " 'FDT46': 7,\n",
       " 'FDY02': 7,\n",
       " 'FDC46': 7,\n",
       " 'FDR35': 7,\n",
       " 'FDK21': 7,\n",
       " 'NCU17': 7,\n",
       " 'FDU36': 7,\n",
       " 'FDJ48': 7,\n",
       " 'FDH57': 7,\n",
       " 'FDB14': 7,\n",
       " 'FDN21': 7,\n",
       " 'FDY57': 7,\n",
       " 'FDS19': 7,\n",
       " 'FDR21': 7,\n",
       " 'FDP49': 7,\n",
       " 'NCM06': 7,\n",
       " 'NCX42': 7,\n",
       " 'FDS40': 7,\n",
       " 'NCX18': 7,\n",
       " 'FDD17': 7,\n",
       " 'FDM08': 7,\n",
       " 'FDC17': 7,\n",
       " 'FDK51': 7,\n",
       " 'FDI04': 7,\n",
       " 'FDT43': 7,\n",
       " 'FDM36': 7,\n",
       " 'FDM44': 7,\n",
       " 'FDI07': 7,\n",
       " 'FDT34': 7,\n",
       " 'DRI01': 7,\n",
       " 'FDL38': 7,\n",
       " 'NCP18': 7,\n",
       " 'FDZ08': 7,\n",
       " 'FDO60': 7,\n",
       " 'FDJ57': 7,\n",
       " 'FDD57': 7,\n",
       " 'FDH21': 7,\n",
       " 'FDX32': 7,\n",
       " 'NCG43': 7,\n",
       " 'FDL48': 7,\n",
       " 'DRI25': 7,\n",
       " 'DRL01': 7,\n",
       " 'NCS54': 7,\n",
       " 'FDS57': 7,\n",
       " 'FDU46': 7,\n",
       " 'DRM59': 7,\n",
       " 'FDA01': 7,\n",
       " 'DRE03': 7,\n",
       " 'DRD15': 7,\n",
       " 'FDQ56': 7,\n",
       " 'NCK18': 7,\n",
       " 'FDW50': 7,\n",
       " 'NCR53': 7,\n",
       " 'FDV45': 7,\n",
       " 'FDU02': 7,\n",
       " 'NCM30': 7,\n",
       " 'FDO22': 7,\n",
       " 'FDG08': 7,\n",
       " 'FDC16': 7,\n",
       " 'DRF25': 7,\n",
       " 'FDT12': 7,\n",
       " 'FDL22': 7,\n",
       " 'FDX19': 7,\n",
       " 'DRL35': 7,\n",
       " 'FDS27': 7,\n",
       " 'FDC41': 7,\n",
       " 'FDY07': 7,\n",
       " 'FDR01': 7,\n",
       " 'FDJ21': 7,\n",
       " 'FDH19': 7,\n",
       " 'FDR58': 7,\n",
       " 'NCL29': 7,\n",
       " 'FDW07': 7,\n",
       " 'FDQ08': 7,\n",
       " 'FDH26': 7,\n",
       " 'FDX36': 7,\n",
       " 'FDV16': 7,\n",
       " 'FDH48': 7,\n",
       " 'FDV39': 7,\n",
       " 'NCS30': 7,\n",
       " 'FDW09': 7,\n",
       " 'NCO17': 7,\n",
       " 'FDP10': 7,\n",
       " 'FDS47': 7,\n",
       " 'NCP06': 7,\n",
       " 'FDA02': 7,\n",
       " 'NCL18': 7,\n",
       " 'NCR05': 7,\n",
       " 'FDN15': 7,\n",
       " 'FDI21': 7,\n",
       " 'NCM29': 7,\n",
       " 'FDR02': 7,\n",
       " 'DRL37': 7,\n",
       " 'FDC59': 7,\n",
       " 'FDL36': 7,\n",
       " 'DRD13': 7,\n",
       " 'NCW53': 7,\n",
       " 'FDN01': 7,\n",
       " 'FDO24': 7,\n",
       " 'FDV28': 7,\n",
       " 'FDS13': 7,\n",
       " 'FDO34': 7,\n",
       " 'FDG50': 7,\n",
       " 'FDZ23': 7,\n",
       " 'FDH56': 7,\n",
       " 'FDW28': 7,\n",
       " 'NCN07': 7,\n",
       " 'FDE51': 7,\n",
       " 'FDV04': 7,\n",
       " 'FDR09': 7,\n",
       " 'FDS04': 7,\n",
       " 'FDL13': 7,\n",
       " 'FDW32': 7,\n",
       " 'DRI11': 7,\n",
       " 'NCS06': 7,\n",
       " 'FDA07': 7,\n",
       " 'FDR37': 7,\n",
       " 'FDS32': 7,\n",
       " 'FDI45': 7,\n",
       " 'DRG37': 7,\n",
       " 'FDB36': 7,\n",
       " 'NCH07': 7,\n",
       " 'FDU21': 7,\n",
       " 'FDE17': 7,\n",
       " 'FDK08': 7,\n",
       " 'DRL60': 7,\n",
       " 'FDM15': 7,\n",
       " 'NCQ53': 7,\n",
       " 'DRE48': 7,\n",
       " 'NCO29': 7,\n",
       " 'FDN12': 7,\n",
       " 'FDH50': 7,\n",
       " 'FDB04': 7,\n",
       " 'NCN53': 7,\n",
       " 'FDC29': 7,\n",
       " 'FDP60': 7,\n",
       " 'FDH14': 7,\n",
       " 'FDU20': 7,\n",
       " 'FDJ22': 7,\n",
       " 'FDM58': 7,\n",
       " 'FDZ35': 7,\n",
       " 'DRM23': 7,\n",
       " 'FDR27': 7,\n",
       " 'FDS45': 7,\n",
       " 'FDY31': 7,\n",
       " 'FDJ09': 7,\n",
       " 'FDI26': 7,\n",
       " 'FDS01': 7,\n",
       " 'FDB58': 7,\n",
       " 'FDR15': 7,\n",
       " 'FDV57': 7,\n",
       " 'FDP39': 7,\n",
       " 'FDS16': 7,\n",
       " 'FDY59': 7,\n",
       " 'FDK38': 7,\n",
       " 'NCE07': 7,\n",
       " 'FDV19': 7,\n",
       " 'FDQ36': 7,\n",
       " 'NCB30': 7,\n",
       " 'NCZ30': 7,\n",
       " 'NCA06': 7,\n",
       " 'FDQ26': 7,\n",
       " 'NCX54': 7,\n",
       " 'FDQ34': 7,\n",
       " 'FDY13': 7,\n",
       " 'DRD12': 7,\n",
       " 'FDV01': 7,\n",
       " 'FDR55': 7,\n",
       " 'FDI57': 7,\n",
       " 'FDO57': 7,\n",
       " 'DRG23': 7,\n",
       " 'FDZ52': 7,\n",
       " 'FDU38': 7,\n",
       " 'FDP03': 7,\n",
       " 'FDT03': 7,\n",
       " 'FDX47': 7,\n",
       " 'NCZ18': 7,\n",
       " 'NCZ54': 7,\n",
       " 'FDY35': 7,\n",
       " 'FDG32': 7,\n",
       " 'FDG34': 7,\n",
       " 'DRD24': 7,\n",
       " 'NCH55': 7,\n",
       " 'FDU34': 7,\n",
       " 'FDX26': 7,\n",
       " 'FDW19': 7,\n",
       " 'NCL05': 7,\n",
       " 'FDJ45': 7,\n",
       " 'NCP50': 7,\n",
       " 'FDK03': 7,\n",
       " 'FDI20': 7,\n",
       " 'FDY33': 7,\n",
       " 'NCQ38': 7,\n",
       " 'FDQ10': 7,\n",
       " 'NCI31': 7,\n",
       " 'FDW38': 7,\n",
       " 'FDW34': 7,\n",
       " 'FDD10': 7,\n",
       " 'FDB56': 7,\n",
       " 'FDU25': 7,\n",
       " 'DRM37': 7,\n",
       " 'FDS59': 7,\n",
       " 'NCV54': 7,\n",
       " 'FDB34': 7,\n",
       " 'FDB15': 7,\n",
       " 'FDF57': 7,\n",
       " 'NCO05': 7,\n",
       " 'NCJ18': 7,\n",
       " 'DRJ11': 7,\n",
       " 'FDD39': 7,\n",
       " 'FDK26': 7,\n",
       " 'FDZ58': 7,\n",
       " 'FDE16': 7,\n",
       " 'FDD50': 7,\n",
       " 'FDP27': 7,\n",
       " 'NCE19': 7,\n",
       " 'DRQ35': 7,\n",
       " 'NCM43': 7,\n",
       " 'DRD37': 7,\n",
       " 'FDL46': 7,\n",
       " 'FDC50': 7,\n",
       " 'FDN60': 7,\n",
       " 'FDE33': 7,\n",
       " 'NCD54': 7,\n",
       " 'FDP24': 7,\n",
       " 'FDL40': 7,\n",
       " 'FDN57': 7,\n",
       " 'FDU26': 7,\n",
       " 'FDF21': 7,\n",
       " 'FDY15': 7,\n",
       " 'NCZ06': 7,\n",
       " 'FDH17': 7,\n",
       " 'FDS28': 7,\n",
       " 'FDK40': 7,\n",
       " 'FDO23': 7,\n",
       " 'NCY41': 7,\n",
       " 'DRB48': 7,\n",
       " 'FDZ15': 7,\n",
       " 'FDI14': 7,\n",
       " 'FDA32': 7,\n",
       " 'DRK49': 7,\n",
       " 'NCG07': 7,\n",
       " 'FDI32': 7,\n",
       " 'DRC25': 7,\n",
       " 'FDL52': 7,\n",
       " 'FDS31': 7,\n",
       " 'FDX40': 7,\n",
       " 'FDR22': 7,\n",
       " 'FDD21': 6,\n",
       " 'FDF08': 6,\n",
       " 'FDR19': 6,\n",
       " 'FDY36': 6,\n",
       " 'DRN35': 6,\n",
       " 'FDJ04': 6,\n",
       " 'FDD46': 6,\n",
       " 'FDG44': 6,\n",
       " 'FDQ45': 6,\n",
       " 'FDB45': 6,\n",
       " 'FDN58': 6,\n",
       " 'NCZ17': 6,\n",
       " 'FDS23': 6,\n",
       " 'FDK41': 6,\n",
       " 'FDC44': 6,\n",
       " 'FDH05': 6,\n",
       " 'FDT20': 6,\n",
       " 'FDU33': 6,\n",
       " 'NCX30': 6,\n",
       " 'FDC02': 6,\n",
       " 'NCH18': 6,\n",
       " 'FDZ55': 6,\n",
       " 'FDD51': 6,\n",
       " 'DRF36': 6,\n",
       " 'FDP44': 6,\n",
       " 'FDD04': 6,\n",
       " 'FDF20': 6,\n",
       " 'FDR33': 6,\n",
       " 'FDS44': 6,\n",
       " 'FDY45': 6,\n",
       " 'FDL56': 6,\n",
       " 'FDG29': 6,\n",
       " 'FDD52': 6,\n",
       " 'FDU39': 6,\n",
       " 'FDN39': 6,\n",
       " 'FDX37': 6,\n",
       " 'FDY28': 6,\n",
       " 'DRF37': 6,\n",
       " 'FDS11': 6,\n",
       " 'FDP19': 6,\n",
       " 'FDT50': 6,\n",
       " 'FDU44': 6,\n",
       " 'FDC35': 6,\n",
       " 'FDB41': 6,\n",
       " 'FDQ31': 6,\n",
       " 'FDD47': 6,\n",
       " 'FDX09': 6,\n",
       " 'FDA08': 6,\n",
       " 'FDT58': 6,\n",
       " 'FDZ38': 6,\n",
       " 'FDC20': 6,\n",
       " 'FDV22': 6,\n",
       " 'FDO20': 6,\n",
       " 'FDX07': 6,\n",
       " 'FDG10': 6,\n",
       " 'DRI51': 6,\n",
       " 'NCF07': 6,\n",
       " 'FDO45': 6,\n",
       " 'NCN05': 6,\n",
       " 'FDL45': 6,\n",
       " 'FDM51': 6,\n",
       " 'NCU42': 6,\n",
       " 'FDE29': 6,\n",
       " 'NCR17': 6,\n",
       " 'NCC07': 6,\n",
       " 'FDS37': 6,\n",
       " 'FDW35': 6,\n",
       " 'FDK15': 6,\n",
       " 'FDS12': 6,\n",
       " 'FDA28': 6,\n",
       " 'DRE12': 6,\n",
       " 'DRH39': 6,\n",
       " 'FDX03': 6,\n",
       " 'FDS24': 6,\n",
       " 'FDY21': 6,\n",
       " 'FDI34': 6,\n",
       " 'FDR60': 6,\n",
       " 'FDO40': 6,\n",
       " 'FDI52': 6,\n",
       " 'DRC01': 6,\n",
       " 'FDH38': 6,\n",
       " 'DRF49': 6,\n",
       " 'FDL33': 6,\n",
       " 'FDH44': 6,\n",
       " 'FDH32': 6,\n",
       " 'DRM47': 6,\n",
       " 'DRI37': 6,\n",
       " 'FDO25': 6,\n",
       " 'NCO41': 6,\n",
       " 'FDZ12': 6,\n",
       " 'FDR32': 6,\n",
       " 'FDB32': 6,\n",
       " 'FDZ45': 6,\n",
       " 'DRL49': 6,\n",
       " 'FDS03': 6,\n",
       " 'FDE24': 6,\n",
       " 'FDD11': 6,\n",
       " 'FDT08': 6,\n",
       " 'DRK59': 6,\n",
       " 'FDT59': 6,\n",
       " 'FDZ10': 6,\n",
       " 'FDS36': 6,\n",
       " 'FDP22': 6,\n",
       " 'FDK55': 6,\n",
       " 'NCG30': 6,\n",
       " 'FDF26': 6,\n",
       " 'FDJ53': 6,\n",
       " 'FDG47': 6,\n",
       " 'FDA47': 6,\n",
       " 'FDZ39': 6,\n",
       " 'FDX16': 6,\n",
       " 'FDX57': 6,\n",
       " 'FDD44': 6,\n",
       " 'FDK14': 6,\n",
       " 'FDV48': 6,\n",
       " 'FDV15': 6,\n",
       " 'FDJ34': 6,\n",
       " 'FDW46': 6,\n",
       " 'DRJ39': 6,\n",
       " 'FDL09': 6,\n",
       " 'FDC47': 6,\n",
       " 'FDD41': 6,\n",
       " 'NCK07': 6,\n",
       " 'DRF13': 6,\n",
       " 'FDM28': 6,\n",
       " 'FDL04': 6,\n",
       " 'FDI16': 6,\n",
       " 'FDY48': 6,\n",
       " 'FDT28': 6,\n",
       " 'NCP30': 6,\n",
       " 'DRA12': 6,\n",
       " 'DRJ13': 6,\n",
       " 'FDU51': 6,\n",
       " 'FDG56': 6,\n",
       " 'FDA21': 6,\n",
       " 'NCB42': 6,\n",
       " 'FDW51': 6,\n",
       " 'FDQ09': 6,\n",
       " 'NCB19': 6,\n",
       " 'FDM25': 6,\n",
       " 'FDW39': 6,\n",
       " 'FDI28': 6,\n",
       " 'FDI56': 6,\n",
       " 'FDZ25': 6,\n",
       " 'FDH45': 6,\n",
       " 'FDB35': 6,\n",
       " 'FDX15': 6,\n",
       " 'FDL24': 6,\n",
       " 'FDZ48': 6,\n",
       " 'FDN34': 6,\n",
       " 'FDW45': 6,\n",
       " 'FDH41': 6,\n",
       " 'FDQ52': 6,\n",
       " 'FDZ09': 6,\n",
       " 'FDL08': 6,\n",
       " 'FDZ44': 6,\n",
       " 'FDH40': 6,\n",
       " 'FDU32': 6,\n",
       " 'FDV37': 6,\n",
       " 'NCJ05': 6,\n",
       " 'DRN37': 6,\n",
       " 'FDA46': 6,\n",
       " 'NCI42': 6,\n",
       " 'FDU07': 6,\n",
       " 'FDU15': 6,\n",
       " 'FDT10': 6,\n",
       " 'DRE60': 6,\n",
       " 'DRG15': 6,\n",
       " 'FDO08': 6,\n",
       " 'NCP29': 6,\n",
       " 'FDE36': 6,\n",
       " 'FDW47': 6,\n",
       " 'NCO42': 6,\n",
       " 'FDM04': 6,\n",
       " 'FDK45': 6,\n",
       " 'FDA10': 6,\n",
       " 'DRD60': 6,\n",
       " 'FDU24': 6,\n",
       " 'FDG59': 6,\n",
       " 'FDW23': 6,\n",
       " 'FDB29': 6,\n",
       " 'FDX60': 6,\n",
       " 'FDX01': 6,\n",
       " 'FDJ38': 6,\n",
       " 'FDP33': 6,\n",
       " 'FDN23': 6,\n",
       " 'DRO47': 6,\n",
       " 'NCO26': 6,\n",
       " 'NCD19': 6,\n",
       " 'FDW02': 6,\n",
       " 'NCI17': 6,\n",
       " 'FDT36': 6,\n",
       " 'NCR30': 6,\n",
       " 'NCQ42': 6,\n",
       " 'FDQ15': 6,\n",
       " 'FDD08': 6,\n",
       " 'NCU54': 6,\n",
       " 'FDR20': 6,\n",
       " 'FDO46': 6,\n",
       " 'DRK13': 6,\n",
       " 'FDN38': 6,\n",
       " 'NCH43': 6,\n",
       " 'FDL57': 6,\n",
       " 'FDC53': 6,\n",
       " 'FDB49': 6,\n",
       " 'FDG46': 6,\n",
       " 'NCB43': 6,\n",
       " 'DRH25': 6,\n",
       " 'DRH36': 6,\n",
       " 'NCN43': 6,\n",
       " 'FDX23': 6,\n",
       " 'NCH54': 6,\n",
       " 'FDC33': 6,\n",
       " 'FDH35': 6,\n",
       " 'FDW27': 6,\n",
       " 'FDJ60': 6,\n",
       " 'DRZ11': 6,\n",
       " 'FDF41': 6,\n",
       " 'NCO02': 6,\n",
       " 'FDL51': 6,\n",
       " 'NCX41': 6,\n",
       " 'NCW29': 6,\n",
       " 'NCF31': 6,\n",
       " 'FDR08': 6,\n",
       " 'FDG16': 6,\n",
       " 'NCO06': 6,\n",
       " 'FDT31': 6,\n",
       " 'FDW56': 6,\n",
       " 'FDG26': 6,\n",
       " 'NCL41': 6,\n",
       " 'FDB60': 6,\n",
       " 'FDT57': 6,\n",
       " 'FDG45': 6,\n",
       " 'FDX46': 6,\n",
       " 'FDA49': 6,\n",
       " 'FDD40': 6,\n",
       " 'FDK09': 6,\n",
       " 'FDE32': 6,\n",
       " 'FDW59': 6,\n",
       " 'FDG21': 6,\n",
       " 'FDU11': 6,\n",
       " 'FDZ59': 6,\n",
       " 'FDT09': 6,\n",
       " 'FDG31': 6,\n",
       " 'FDF24': 6,\n",
       " 'FDD14': 6,\n",
       " 'FDO39': 6,\n",
       " 'FDQ13': 6,\n",
       " 'FDB23': 6,\n",
       " 'FDC08': 6,\n",
       " 'FDS56': 6,\n",
       " 'FDO09': 6,\n",
       " 'DRB25': 6,\n",
       " 'FDD56': 6,\n",
       " 'FDI50': 6,\n",
       " 'FDD09': 6,\n",
       " 'FDB08': 6,\n",
       " 'FDY40': 6,\n",
       " 'NCA05': 6,\n",
       " 'FDN46': 6,\n",
       " 'FDN02': 6,\n",
       " 'NCM05': 6,\n",
       " 'FDE34': 6,\n",
       " 'FDK24': 6,\n",
       " 'FDT26': 6,\n",
       " 'FDX43': 6,\n",
       " 'DRY23': 6,\n",
       " 'NCF30': 6,\n",
       " 'FDB51': 6,\n",
       " 'FDF09': 6,\n",
       " 'FDO50': 6,\n",
       " 'FDE05': 6,\n",
       " 'FDZ16': 6,\n",
       " 'FDQ48': 6,\n",
       " 'DRH03': 6,\n",
       " 'FDG12': 6,\n",
       " 'FDA23': 6,\n",
       " 'FDX56': 6,\n",
       " 'FDH60': 6,\n",
       " 'NCN19': 6,\n",
       " 'FDZ04': 6,\n",
       " 'FDG53': 6,\n",
       " 'FDA20': 6,\n",
       " 'FDX33': 6,\n",
       " 'FDF34': 6,\n",
       " 'DRI23': 6,\n",
       " 'FDK34': 6,\n",
       " 'NCR38': 6,\n",
       " 'FDE46': 6,\n",
       " 'FDM01': 6,\n",
       " 'FDJ41': 6,\n",
       " 'NCO30': 6,\n",
       " 'FDO12': 6,\n",
       " 'FDV51': 6,\n",
       " 'FDI19': 6,\n",
       " 'FDS48': 6,\n",
       " 'FDQ46': 6,\n",
       " 'DRK11': 6,\n",
       " 'FDH58': 6,\n",
       " 'NCI43': 6,\n",
       " 'NCC54': 6,\n",
       " 'NCP55': 6,\n",
       " 'FDT48': 6,\n",
       " 'FDQ58': 6,\n",
       " 'FDI08': 6,\n",
       " 'NCR41': 6,\n",
       " 'FDV47': 6,\n",
       " 'FDK33': 6,\n",
       " 'DRI47': 6,\n",
       " 'FDD58': 6,\n",
       " 'FDE10': 6,\n",
       " 'NCE30': 6,\n",
       " 'FDK52': 6,\n",
       " 'FDO58': 6,\n",
       " 'FDH53': 6,\n",
       " 'FDK25': 6,\n",
       " 'NCK54': 6,\n",
       " 'NCI18': 6,\n",
       " 'NCK17': 6,\n",
       " 'FDY04': 6,\n",
       " 'FDL43': 6,\n",
       " 'FDN13': 6,\n",
       " 'FDQ21': 6,\n",
       " 'FDI15': 6,\n",
       " 'FDX44': 6,\n",
       " 'FDK02': 6,\n",
       " 'FDH20': 6,\n",
       " 'FDH47': 6,\n",
       " 'FDK43': 6,\n",
       " 'FDV49': 6,\n",
       " 'FDB40': 6,\n",
       " 'NCT30': 6,\n",
       " 'FDY50': 6,\n",
       " 'FDY10': 6,\n",
       " 'FDI60': 6,\n",
       " 'DRJ01': 6,\n",
       " 'FDE04': 6,\n",
       " 'FDR12': 6,\n",
       " 'FDB27': 6,\n",
       " 'DRJ59': 6,\n",
       " 'FDX34': 6,\n",
       " 'NCK19': 6,\n",
       " 'FDS35': 6,\n",
       " 'FDF12': 6,\n",
       " 'NCT42': 6,\n",
       " 'FDN09': 6,\n",
       " 'FDE59': 6,\n",
       " 'FDZ49': 6,\n",
       " 'FDY52': 6,\n",
       " 'FDA03': 6,\n",
       " 'FDD26': 6,\n",
       " 'FDT11': 6,\n",
       " 'FDZ56': 6,\n",
       " 'NCN14': 6,\n",
       " 'FDL39': 6,\n",
       " 'DRE27': 6,\n",
       " 'NCJ29': 6,\n",
       " 'FDQ32': 6,\n",
       " 'FDR26': 6,\n",
       " 'DRE15': 6,\n",
       " 'NCQ50': 6,\n",
       " 'FDX11': 6,\n",
       " 'FDV44': 6,\n",
       " 'NCD18': 6,\n",
       " 'DRH37': 6,\n",
       " 'NCI30': 6,\n",
       " 'FDV32': 6,\n",
       " 'NCA53': 6,\n",
       " 'FDC45': 6,\n",
       " 'NCS29': 6,\n",
       " 'NCN30': 6,\n",
       " 'NCU05': 6,\n",
       " 'FDJ10': 6,\n",
       " 'DRC27': 6,\n",
       " 'FDO15': 6,\n",
       " 'FDW44': 6,\n",
       " 'FDE41': 6,\n",
       " 'NCU18': 6,\n",
       " 'NCJ42': 6,\n",
       " 'FDS15': 6,\n",
       " 'FDU40': 6,\n",
       " 'FDC34': 6,\n",
       " 'FDV46': 6,\n",
       " 'FDT56': 5,\n",
       " 'NCA42': 5,\n",
       " 'DRE13': 5,\n",
       " 'FDY25': 5,\n",
       " 'FDR36': 5,\n",
       " 'DRI39': 5,\n",
       " 'FDB33': 5,\n",
       " 'NCH06': 5,\n",
       " 'DRE37': 5,\n",
       " 'FDB02': 5,\n",
       " 'FDY11': 5,\n",
       " 'FDK10': 5,\n",
       " 'FDZ07': 5,\n",
       " 'NCB06': 5,\n",
       " 'NCG18': 5,\n",
       " 'NCN55': 5,\n",
       " 'NCK30': 5,\n",
       " 'FDV02': 5,\n",
       " 'FDA27': 5,\n",
       " 'FDU28': 5,\n",
       " 'FDX59': 5,\n",
       " 'FDE02': 5,\n",
       " 'NCQ41': 5,\n",
       " 'FDM10': 5,\n",
       " 'FDA52': 5,\n",
       " 'FDB52': 5,\n",
       " 'FDB03': 5,\n",
       " 'FDC58': 5,\n",
       " 'FDY20': 5,\n",
       " 'FDU57': 5,\n",
       " 'FDX51': 5,\n",
       " 'FDA25': 5,\n",
       " 'DRG13': 5,\n",
       " 'FDM13': 5,\n",
       " 'FDD02': 5,\n",
       " 'FDU27': 5,\n",
       " 'FDQ47': 5,\n",
       " 'FDN16': 5,\n",
       " 'FDQ24': 5,\n",
       " 'FDL32': 5,\n",
       " 'NCT41': 5,\n",
       " 'FDE08': 5,\n",
       " 'FDY26': 5,\n",
       " 'DRG49': 5,\n",
       " 'NCM17': 5,\n",
       " 'FDS58': 5,\n",
       " 'FDB50': 5,\n",
       " 'FDX38': 5,\n",
       " 'FDZ47': 5,\n",
       " 'FDE22': 5,\n",
       " 'FDM02': 5,\n",
       " 'FDO36': 5,\n",
       " 'FDS25': 5,\n",
       " 'FDQ03': 5,\n",
       " 'FDS43': 5,\n",
       " 'FDV40': 5,\n",
       " 'NCO55': 5,\n",
       " 'FDT16': 5,\n",
       " 'NCN41': 5,\n",
       " 'DRK01': 5,\n",
       " 'FDK36': 5,\n",
       " 'DRH01': 5,\n",
       " 'FDB38': 5,\n",
       " 'NCV30': 5,\n",
       " 'FDE23': 5,\n",
       " 'FDS34': 5,\n",
       " 'DRZ24': 5,\n",
       " 'FDB44': 5,\n",
       " 'FDP23': 5,\n",
       " 'FDQ14': 5,\n",
       " 'FDZ03': 5,\n",
       " 'FDQ49': 5,\n",
       " 'FDQ44': 5,\n",
       " 'NCV53': 5,\n",
       " 'FDU22': 5,\n",
       " 'FDN48': 5,\n",
       " 'NCM26': 5,\n",
       " 'NCJ31': 5,\n",
       " 'FDB37': 5,\n",
       " 'FDR31': 5,\n",
       " 'FDX35': 5,\n",
       " 'FDS02': 5,\n",
       " 'FDB59': 5,\n",
       " 'FDK48': 5,\n",
       " 'FDR34': 5,\n",
       " 'DRK39': 5,\n",
       " 'NCL55': 5,\n",
       " 'NCN26': 5,\n",
       " 'FDN10': 5,\n",
       " 'FDB53': 5,\n",
       " 'FDN32': 5,\n",
       " 'FDP59': 5,\n",
       " 'NCG42': 5,\n",
       " 'FDG52': 5,\n",
       " 'NCZ53': 5,\n",
       " 'FDU04': 5,\n",
       " 'FDC10': 5,\n",
       " 'NCM54': 5,\n",
       " 'FDR25': 5,\n",
       " 'FDB12': 5,\n",
       " 'FDO38': 5,\n",
       " 'NCE42': 5,\n",
       " 'DRG11': 5,\n",
       " 'NCE18': 5,\n",
       " 'FDN24': 5,\n",
       " 'FDQ11': 5,\n",
       " 'FDV23': 5,\n",
       " 'DRH51': 5,\n",
       " 'FDP26': 5,\n",
       " 'FDZ43': 5,\n",
       " 'FDI38': 5,\n",
       " 'NCJ19': 5,\n",
       " 'NCR54': 5,\n",
       " 'NCD42': 5,\n",
       " 'FDH31': 5,\n",
       " 'FDT37': 5,\n",
       " 'FDC04': 5,\n",
       " 'NCQ30': 5,\n",
       " 'FDN25': 5,\n",
       " 'FDP48': 5,\n",
       " 'FDX49': 5,\n",
       " 'FDO31': 5,\n",
       " 'FDO01': 5,\n",
       " 'FDD35': 5,\n",
       " 'NCT06': 5,\n",
       " 'FDF46': 5,\n",
       " 'FDC51': 5,\n",
       " 'FDS26': 5,\n",
       " 'DRB13': 5,\n",
       " 'FDS49': 5,\n",
       " 'FDY60': 5,\n",
       " 'FDK22': 5,\n",
       " 'FDD53': 5,\n",
       " 'NCN18': 5,\n",
       " 'FDX13': 5,\n",
       " 'FDT04': 5,\n",
       " 'NCA30': 5,\n",
       " 'FDM50': 5,\n",
       " 'FDR24': 5,\n",
       " 'FDH02': 5,\n",
       " 'FDK44': 5,\n",
       " 'NCF43': 5,\n",
       " 'FDA40': 5,\n",
       " 'FDE28': 5,\n",
       " 'FDR49': 5,\n",
       " 'FDG35': 5,\n",
       " 'FDX24': 5,\n",
       " 'FDL03': 5,\n",
       " 'FDA56': 5,\n",
       " 'FDT39': 5,\n",
       " 'NCI55': 5,\n",
       " 'FDT13': 5,\n",
       " 'FDX27': 5,\n",
       " 'FDR14': 5,\n",
       " 'FDQ01': 5,\n",
       " 'FDZ22': 5,\n",
       " 'FDU50': 5,\n",
       " 'NCO14': 5,\n",
       " 'FDF32': 5,\n",
       " 'NCS18': 5,\n",
       " 'FDB22': 5,\n",
       " 'NCS17': 5,\n",
       " 'DRM49': 5,\n",
       " 'FDD03': 5,\n",
       " 'NCP42': 5,\n",
       " 'FDP31': 5,\n",
       " 'FDG60': 5,\n",
       " 'FDB26': 5,\n",
       " 'NCF19': 5,\n",
       " 'FDZ28': 5,\n",
       " 'NCF18': 5,\n",
       " 'FDE53': 5,\n",
       " 'NCD31': 5,\n",
       " 'FDP37': 5,\n",
       " 'FDQ20': 5,\n",
       " 'NCY06': 5,\n",
       " 'FDP40': 5,\n",
       " 'NCU30': 5,\n",
       " 'NCY05': 5,\n",
       " 'FDI33': 5,\n",
       " 'FDO56': 5,\n",
       " 'FDY34': 5,\n",
       " 'DRG27': 5,\n",
       " 'NCO43': 5,\n",
       " 'FDV25': 5,\n",
       " 'FDB09': 5,\n",
       " 'FDO28': 5,\n",
       " 'FDY51': 5,\n",
       " 'NCN29': 5,\n",
       " 'FDZ01': 5,\n",
       " 'FDW57': 5,\n",
       " 'FDB20': 5,\n",
       " 'DRG03': 5,\n",
       " 'FDZ27': 5,\n",
       " 'FDF44': 5,\n",
       " 'NCZ42': 5,\n",
       " 'FDP04': 5,\n",
       " 'FDU58': 5,\n",
       " 'FDB57': 5,\n",
       " 'NCD06': 5,\n",
       " 'NCI06': 5,\n",
       " 'FDE26': 5,\n",
       " 'NCW41': 5,\n",
       " 'FDB39': 5,\n",
       " 'FDA45': 5,\n",
       " 'NCN54': 5,\n",
       " 'FDP08': 5,\n",
       " 'NCV05': 5,\n",
       " 'FDQ07': 5,\n",
       " 'DRD27': 5,\n",
       " 'FDJ15': 5,\n",
       " 'NCK06': 5,\n",
       " 'FDG02': 5,\n",
       " 'FDP45': 5,\n",
       " 'FDE20': 5,\n",
       " 'NCP43': 5,\n",
       " 'FDP38': 5,\n",
       " 'FDV07': 5,\n",
       " 'FDT52': 5,\n",
       " 'FDI24': 5,\n",
       " 'FDO16': 5,\n",
       " 'FDN08': 5,\n",
       " 'FDE14': 5,\n",
       " 'FDM60': 5,\n",
       " 'FDP57': 5,\n",
       " 'FDX55': 5,\n",
       " 'FDX08': 5,\n",
       " ...}"
      ]
     },
     "execution_count": 36,
     "metadata": {},
     "output_type": "execute_result"
    }
   ],
   "source": [
    "# let's obtain the counts for each one of the labels in Item_Identifier(since it really has lots of unique values)\n",
    "# let's capture this in a dictionary that we can use to re-map the labels\n",
    "data['Item_Identifier'].value_counts().to_dict()  "
   ]
  },
  {
   "cell_type": "code",
   "execution_count": 37,
   "metadata": {},
   "outputs": [],
   "source": [
    "# And now let's replace each label in X2 by its count\n",
    "\n",
    "# first we make a dictionary that maps each label to the counts\n",
    "data_frequency_map = data['Item_Identifier'].value_counts().to_dict()"
   ]
  },
  {
   "cell_type": "code",
   "execution_count": 38,
   "metadata": {},
   "outputs": [
    {
     "data": {
      "text/html": [
       "<div>\n",
       "<style scoped>\n",
       "    .dataframe tbody tr th:only-of-type {\n",
       "        vertical-align: middle;\n",
       "    }\n",
       "\n",
       "    .dataframe tbody tr th {\n",
       "        vertical-align: top;\n",
       "    }\n",
       "\n",
       "    .dataframe thead th {\n",
       "        text-align: right;\n",
       "    }\n",
       "</style>\n",
       "<table border=\"1\" class=\"dataframe\">\n",
       "  <thead>\n",
       "    <tr style=\"text-align: right;\">\n",
       "      <th></th>\n",
       "      <th>Item_Identifier</th>\n",
       "      <th>Item_Weight</th>\n",
       "      <th>Item_Fat_Content</th>\n",
       "      <th>Item_Visibility</th>\n",
       "      <th>Item_Type</th>\n",
       "      <th>Item_MRP</th>\n",
       "      <th>Outlet_Identifier</th>\n",
       "      <th>Outlet_Establishment_Year</th>\n",
       "      <th>Outlet_Size</th>\n",
       "      <th>Outlet_Location_Type</th>\n",
       "      <th>Outlet_Type</th>\n",
       "      <th>Item_Outlet_Sales</th>\n",
       "    </tr>\n",
       "  </thead>\n",
       "  <tbody>\n",
       "    <tr>\n",
       "      <th>0</th>\n",
       "      <td>FDA15</td>\n",
       "      <td>9.30</td>\n",
       "      <td>Low Fat</td>\n",
       "      <td>0.016047</td>\n",
       "      <td>Dairy</td>\n",
       "      <td>249.8092</td>\n",
       "      <td>OUT049</td>\n",
       "      <td>1999</td>\n",
       "      <td>Medium</td>\n",
       "      <td>Tier 1</td>\n",
       "      <td>Supermarket Type1</td>\n",
       "      <td>3735.1380</td>\n",
       "    </tr>\n",
       "    <tr>\n",
       "      <th>1</th>\n",
       "      <td>DRC01</td>\n",
       "      <td>5.92</td>\n",
       "      <td>Regular</td>\n",
       "      <td>0.019278</td>\n",
       "      <td>Soft Drinks</td>\n",
       "      <td>48.2692</td>\n",
       "      <td>OUT018</td>\n",
       "      <td>2009</td>\n",
       "      <td>Medium</td>\n",
       "      <td>Tier 3</td>\n",
       "      <td>Supermarket Type2</td>\n",
       "      <td>443.4228</td>\n",
       "    </tr>\n",
       "  </tbody>\n",
       "</table>\n",
       "</div>"
      ],
      "text/plain": [
       "  Item_Identifier  Item_Weight Item_Fat_Content  Item_Visibility    Item_Type  \\\n",
       "0           FDA15         9.30          Low Fat         0.016047        Dairy   \n",
       "1           DRC01         5.92          Regular         0.019278  Soft Drinks   \n",
       "\n",
       "   Item_MRP Outlet_Identifier  Outlet_Establishment_Year Outlet_Size  \\\n",
       "0  249.8092            OUT049                       1999      Medium   \n",
       "1   48.2692            OUT018                       2009      Medium   \n",
       "\n",
       "  Outlet_Location_Type        Outlet_Type  Item_Outlet_Sales  \n",
       "0               Tier 1  Supermarket Type1          3735.1380  \n",
       "1               Tier 3  Supermarket Type2           443.4228  "
      ]
     },
     "execution_count": 38,
     "metadata": {},
     "output_type": "execute_result"
    }
   ],
   "source": [
    "data.head(2)"
   ]
  },
  {
   "cell_type": "code",
   "execution_count": 39,
   "metadata": {},
   "outputs": [],
   "source": [
    "# and now we replace 'Item_Identifier' feature in the dataset data\n",
    "data['Item_Identifier'] = data['Item_Identifier'].map(data_frequency_map)"
   ]
  },
  {
   "cell_type": "code",
   "execution_count": 40,
   "metadata": {
    "scrolled": false
   },
   "outputs": [
    {
     "data": {
      "text/plain": [
       "0    8\n",
       "1    6\n",
       "2    7\n",
       "3    6\n",
       "4    6\n",
       "Name: Item_Identifier, dtype: int64"
      ]
     },
     "execution_count": 40,
     "metadata": {},
     "output_type": "execute_result"
    }
   ],
   "source": [
    "data['Item_Identifier'].head()"
   ]
  },
  {
   "cell_type": "code",
   "execution_count": 41,
   "metadata": {},
   "outputs": [
    {
     "data": {
      "text/html": [
       "<div>\n",
       "<style scoped>\n",
       "    .dataframe tbody tr th:only-of-type {\n",
       "        vertical-align: middle;\n",
       "    }\n",
       "\n",
       "    .dataframe tbody tr th {\n",
       "        vertical-align: top;\n",
       "    }\n",
       "\n",
       "    .dataframe thead th {\n",
       "        text-align: right;\n",
       "    }\n",
       "</style>\n",
       "<table border=\"1\" class=\"dataframe\">\n",
       "  <thead>\n",
       "    <tr style=\"text-align: right;\">\n",
       "      <th></th>\n",
       "      <th>Item_Identifier</th>\n",
       "      <th>Item_Weight</th>\n",
       "      <th>Item_Fat_Content</th>\n",
       "      <th>Item_Visibility</th>\n",
       "      <th>Item_Type</th>\n",
       "      <th>Item_MRP</th>\n",
       "      <th>Outlet_Identifier</th>\n",
       "      <th>Outlet_Establishment_Year</th>\n",
       "      <th>Outlet_Size</th>\n",
       "      <th>Outlet_Location_Type</th>\n",
       "      <th>Outlet_Type</th>\n",
       "      <th>Item_Outlet_Sales</th>\n",
       "    </tr>\n",
       "  </thead>\n",
       "  <tbody>\n",
       "    <tr>\n",
       "      <th>0</th>\n",
       "      <td>8</td>\n",
       "      <td>9.30</td>\n",
       "      <td>Low Fat</td>\n",
       "      <td>0.016047</td>\n",
       "      <td>Dairy</td>\n",
       "      <td>249.8092</td>\n",
       "      <td>OUT049</td>\n",
       "      <td>1999</td>\n",
       "      <td>Medium</td>\n",
       "      <td>Tier 1</td>\n",
       "      <td>Supermarket Type1</td>\n",
       "      <td>3735.1380</td>\n",
       "    </tr>\n",
       "    <tr>\n",
       "      <th>1</th>\n",
       "      <td>6</td>\n",
       "      <td>5.92</td>\n",
       "      <td>Regular</td>\n",
       "      <td>0.019278</td>\n",
       "      <td>Soft Drinks</td>\n",
       "      <td>48.2692</td>\n",
       "      <td>OUT018</td>\n",
       "      <td>2009</td>\n",
       "      <td>Medium</td>\n",
       "      <td>Tier 3</td>\n",
       "      <td>Supermarket Type2</td>\n",
       "      <td>443.4228</td>\n",
       "    </tr>\n",
       "    <tr>\n",
       "      <th>2</th>\n",
       "      <td>7</td>\n",
       "      <td>17.50</td>\n",
       "      <td>Low Fat</td>\n",
       "      <td>0.016760</td>\n",
       "      <td>Meat</td>\n",
       "      <td>141.6180</td>\n",
       "      <td>OUT049</td>\n",
       "      <td>1999</td>\n",
       "      <td>Medium</td>\n",
       "      <td>Tier 1</td>\n",
       "      <td>Supermarket Type1</td>\n",
       "      <td>2097.2700</td>\n",
       "    </tr>\n",
       "    <tr>\n",
       "      <th>3</th>\n",
       "      <td>6</td>\n",
       "      <td>19.20</td>\n",
       "      <td>Regular</td>\n",
       "      <td>0.000000</td>\n",
       "      <td>Fruits and Vegetables</td>\n",
       "      <td>182.0950</td>\n",
       "      <td>OUT010</td>\n",
       "      <td>1998</td>\n",
       "      <td>Missing</td>\n",
       "      <td>Tier 3</td>\n",
       "      <td>Grocery Store</td>\n",
       "      <td>732.3800</td>\n",
       "    </tr>\n",
       "    <tr>\n",
       "      <th>4</th>\n",
       "      <td>6</td>\n",
       "      <td>8.93</td>\n",
       "      <td>Low Fat</td>\n",
       "      <td>0.000000</td>\n",
       "      <td>Household</td>\n",
       "      <td>53.8614</td>\n",
       "      <td>OUT013</td>\n",
       "      <td>1987</td>\n",
       "      <td>High</td>\n",
       "      <td>Tier 3</td>\n",
       "      <td>Supermarket Type1</td>\n",
       "      <td>994.7052</td>\n",
       "    </tr>\n",
       "  </tbody>\n",
       "</table>\n",
       "</div>"
      ],
      "text/plain": [
       "   Item_Identifier  Item_Weight Item_Fat_Content  Item_Visibility  \\\n",
       "0                8         9.30          Low Fat         0.016047   \n",
       "1                6         5.92          Regular         0.019278   \n",
       "2                7        17.50          Low Fat         0.016760   \n",
       "3                6        19.20          Regular         0.000000   \n",
       "4                6         8.93          Low Fat         0.000000   \n",
       "\n",
       "               Item_Type  Item_MRP Outlet_Identifier  \\\n",
       "0                  Dairy  249.8092            OUT049   \n",
       "1            Soft Drinks   48.2692            OUT018   \n",
       "2                   Meat  141.6180            OUT049   \n",
       "3  Fruits and Vegetables  182.0950            OUT010   \n",
       "4              Household   53.8614            OUT013   \n",
       "\n",
       "   Outlet_Establishment_Year Outlet_Size Outlet_Location_Type  \\\n",
       "0                       1999      Medium               Tier 1   \n",
       "1                       2009      Medium               Tier 3   \n",
       "2                       1999      Medium               Tier 1   \n",
       "3                       1998     Missing               Tier 3   \n",
       "4                       1987        High               Tier 3   \n",
       "\n",
       "         Outlet_Type  Item_Outlet_Sales  \n",
       "0  Supermarket Type1          3735.1380  \n",
       "1  Supermarket Type2           443.4228  \n",
       "2  Supermarket Type1          2097.2700  \n",
       "3      Grocery Store           732.3800  \n",
       "4  Supermarket Type1           994.7052  "
      ]
     },
     "execution_count": 41,
     "metadata": {},
     "output_type": "execute_result"
    }
   ],
   "source": [
    "data.head()"
   ]
  },
  {
   "cell_type": "markdown",
   "metadata": {},
   "source": [
    "##### Also we can use combine sparse class whereever the nunique is very large - Technique 2"
   ]
  },
  {
   "cell_type": "code",
   "execution_count": 42,
   "metadata": {},
   "outputs": [],
   "source": [
    "# data['Item_Identifier'].nunique()  #has many unique values(high cardinality index),\n",
    "# #so use combine sparse class method for this feature"
   ]
  },
  {
   "cell_type": "code",
   "execution_count": 43,
   "metadata": {},
   "outputs": [],
   "source": [
    "# temp= data['Item_Identifier'].value_counts()\n",
    "# temp.head()"
   ]
  },
  {
   "cell_type": "code",
   "execution_count": 44,
   "metadata": {},
   "outputs": [],
   "source": [
    "# data['Item_Identifier_count'] = data['Item_Identifier'].apply(lambda x: temp[x]) # a new col. will be created too\n",
    "# data[['Item_Identifier','Item_Identifier_count']].head()"
   ]
  },
  {
   "cell_type": "code",
   "execution_count": 45,
   "metadata": {},
   "outputs": [],
   "source": [
    "# #every item identifier which has less than 4 count of item identifer will be label as 'other', these are the sparse classes,\n",
    "# # as they have lesser counts\n",
    "# for i in range(0, len(data)):         \n",
    "#     if data['Item_Identifier_count'][i] < 4:\n",
    "#         data['Item_Identifier'][i] = 'other'"
   ]
  },
  {
   "cell_type": "code",
   "execution_count": 46,
   "metadata": {},
   "outputs": [],
   "source": [
    "# data['Item_Identifier'].value_counts()"
   ]
  },
  {
   "cell_type": "code",
   "execution_count": 47,
   "metadata": {},
   "outputs": [],
   "source": [
    "# data = data.drop(['Item_Identifier'],axis=1)"
   ]
  },
  {
   "cell_type": "markdown",
   "metadata": {},
   "source": [
    "##### apply labelencoding to rest all the categorical feature"
   ]
  },
  {
   "cell_type": "code",
   "execution_count": 48,
   "metadata": {},
   "outputs": [
    {
     "data": {
      "text/html": [
       "<div>\n",
       "<style scoped>\n",
       "    .dataframe tbody tr th:only-of-type {\n",
       "        vertical-align: middle;\n",
       "    }\n",
       "\n",
       "    .dataframe tbody tr th {\n",
       "        vertical-align: top;\n",
       "    }\n",
       "\n",
       "    .dataframe thead th {\n",
       "        text-align: right;\n",
       "    }\n",
       "</style>\n",
       "<table border=\"1\" class=\"dataframe\">\n",
       "  <thead>\n",
       "    <tr style=\"text-align: right;\">\n",
       "      <th></th>\n",
       "      <th>Item_Identifier</th>\n",
       "      <th>Item_Fat_Content</th>\n",
       "      <th>Item_Type</th>\n",
       "      <th>Outlet_Identifier</th>\n",
       "      <th>Outlet_Size</th>\n",
       "      <th>Outlet_Location_Type</th>\n",
       "      <th>Outlet_Type</th>\n",
       "    </tr>\n",
       "  </thead>\n",
       "  <tbody>\n",
       "    <tr>\n",
       "      <th>0</th>\n",
       "      <td>8</td>\n",
       "      <td>Low Fat</td>\n",
       "      <td>Dairy</td>\n",
       "      <td>OUT049</td>\n",
       "      <td>Medium</td>\n",
       "      <td>Tier 1</td>\n",
       "      <td>Supermarket Type1</td>\n",
       "    </tr>\n",
       "    <tr>\n",
       "      <th>1</th>\n",
       "      <td>6</td>\n",
       "      <td>Regular</td>\n",
       "      <td>Soft Drinks</td>\n",
       "      <td>OUT018</td>\n",
       "      <td>Medium</td>\n",
       "      <td>Tier 3</td>\n",
       "      <td>Supermarket Type2</td>\n",
       "    </tr>\n",
       "    <tr>\n",
       "      <th>2</th>\n",
       "      <td>7</td>\n",
       "      <td>Low Fat</td>\n",
       "      <td>Meat</td>\n",
       "      <td>OUT049</td>\n",
       "      <td>Medium</td>\n",
       "      <td>Tier 1</td>\n",
       "      <td>Supermarket Type1</td>\n",
       "    </tr>\n",
       "    <tr>\n",
       "      <th>3</th>\n",
       "      <td>6</td>\n",
       "      <td>Regular</td>\n",
       "      <td>Fruits and Vegetables</td>\n",
       "      <td>OUT010</td>\n",
       "      <td>Missing</td>\n",
       "      <td>Tier 3</td>\n",
       "      <td>Grocery Store</td>\n",
       "    </tr>\n",
       "    <tr>\n",
       "      <th>4</th>\n",
       "      <td>6</td>\n",
       "      <td>Low Fat</td>\n",
       "      <td>Household</td>\n",
       "      <td>OUT013</td>\n",
       "      <td>High</td>\n",
       "      <td>Tier 3</td>\n",
       "      <td>Supermarket Type1</td>\n",
       "    </tr>\n",
       "  </tbody>\n",
       "</table>\n",
       "</div>"
      ],
      "text/plain": [
       "   Item_Identifier Item_Fat_Content              Item_Type Outlet_Identifier  \\\n",
       "0                8          Low Fat                  Dairy            OUT049   \n",
       "1                6          Regular            Soft Drinks            OUT018   \n",
       "2                7          Low Fat                   Meat            OUT049   \n",
       "3                6          Regular  Fruits and Vegetables            OUT010   \n",
       "4                6          Low Fat              Household            OUT013   \n",
       "\n",
       "  Outlet_Size Outlet_Location_Type        Outlet_Type  \n",
       "0      Medium               Tier 1  Supermarket Type1  \n",
       "1      Medium               Tier 3  Supermarket Type2  \n",
       "2      Medium               Tier 1  Supermarket Type1  \n",
       "3     Missing               Tier 3      Grocery Store  \n",
       "4        High               Tier 3  Supermarket Type1  "
      ]
     },
     "execution_count": 48,
     "metadata": {},
     "output_type": "execute_result"
    }
   ],
   "source": [
    "data[cate_feature].head(5)   "
   ]
  },
  {
   "cell_type": "code",
   "execution_count": 49,
   "metadata": {},
   "outputs": [],
   "source": [
    "from sklearn.preprocessing import LabelEncoder\n",
    "le = LabelEncoder()"
   ]
  },
  {
   "cell_type": "code",
   "execution_count": 50,
   "metadata": {},
   "outputs": [
    {
     "data": {
      "text/plain": [
       "Tier 3    3350\n",
       "Tier 2    2785\n",
       "Tier 1    2388\n",
       "Name: Outlet_Location_Type, dtype: int64"
      ]
     },
     "execution_count": 50,
     "metadata": {},
     "output_type": "execute_result"
    }
   ],
   "source": [
    "data['Outlet_Location_Type'].value_counts()"
   ]
  },
  {
   "cell_type": "code",
   "execution_count": 51,
   "metadata": {},
   "outputs": [
    {
     "data": {
      "text/plain": [
       "array([0, 1, 2], dtype=int64)"
      ]
     },
     "execution_count": 51,
     "metadata": {},
     "output_type": "execute_result"
    }
   ],
   "source": [
    "le.fit_transform(['Tier 1','Tier 2','Tier 3'])"
   ]
  },
  {
   "cell_type": "code",
   "execution_count": 52,
   "metadata": {},
   "outputs": [],
   "source": [
    "data['Outlet_Location_Type'] = data['Outlet_Location_Type'].map({'Tier 1':1, 'Tier 2':2, 'Tier 3':3})"
   ]
  },
  {
   "cell_type": "code",
   "execution_count": 53,
   "metadata": {},
   "outputs": [
    {
     "data": {
      "text/plain": [
       "0    1\n",
       "1    3\n",
       "2    1\n",
       "3    3\n",
       "4    3\n",
       "Name: Outlet_Location_Type, dtype: int64"
      ]
     },
     "execution_count": 53,
     "metadata": {},
     "output_type": "execute_result"
    }
   ],
   "source": [
    "data['Outlet_Location_Type'].head()"
   ]
  },
  {
   "cell_type": "code",
   "execution_count": 54,
   "metadata": {},
   "outputs": [
    {
     "data": {
      "text/html": [
       "<div>\n",
       "<style scoped>\n",
       "    .dataframe tbody tr th:only-of-type {\n",
       "        vertical-align: middle;\n",
       "    }\n",
       "\n",
       "    .dataframe tbody tr th {\n",
       "        vertical-align: top;\n",
       "    }\n",
       "\n",
       "    .dataframe thead th {\n",
       "        text-align: right;\n",
       "    }\n",
       "</style>\n",
       "<table border=\"1\" class=\"dataframe\">\n",
       "  <thead>\n",
       "    <tr style=\"text-align: right;\">\n",
       "      <th></th>\n",
       "      <th>Item_Identifier</th>\n",
       "      <th>Item_Fat_Content</th>\n",
       "      <th>Item_Type</th>\n",
       "      <th>Outlet_Identifier</th>\n",
       "      <th>Outlet_Size</th>\n",
       "      <th>Outlet_Location_Type</th>\n",
       "      <th>Outlet_Type</th>\n",
       "    </tr>\n",
       "  </thead>\n",
       "  <tbody>\n",
       "    <tr>\n",
       "      <th>0</th>\n",
       "      <td>8</td>\n",
       "      <td>Low Fat</td>\n",
       "      <td>Dairy</td>\n",
       "      <td>OUT049</td>\n",
       "      <td>Medium</td>\n",
       "      <td>1</td>\n",
       "      <td>Supermarket Type1</td>\n",
       "    </tr>\n",
       "    <tr>\n",
       "      <th>1</th>\n",
       "      <td>6</td>\n",
       "      <td>Regular</td>\n",
       "      <td>Soft Drinks</td>\n",
       "      <td>OUT018</td>\n",
       "      <td>Medium</td>\n",
       "      <td>3</td>\n",
       "      <td>Supermarket Type2</td>\n",
       "    </tr>\n",
       "    <tr>\n",
       "      <th>2</th>\n",
       "      <td>7</td>\n",
       "      <td>Low Fat</td>\n",
       "      <td>Meat</td>\n",
       "      <td>OUT049</td>\n",
       "      <td>Medium</td>\n",
       "      <td>1</td>\n",
       "      <td>Supermarket Type1</td>\n",
       "    </tr>\n",
       "    <tr>\n",
       "      <th>3</th>\n",
       "      <td>6</td>\n",
       "      <td>Regular</td>\n",
       "      <td>Fruits and Vegetables</td>\n",
       "      <td>OUT010</td>\n",
       "      <td>Missing</td>\n",
       "      <td>3</td>\n",
       "      <td>Grocery Store</td>\n",
       "    </tr>\n",
       "    <tr>\n",
       "      <th>4</th>\n",
       "      <td>6</td>\n",
       "      <td>Low Fat</td>\n",
       "      <td>Household</td>\n",
       "      <td>OUT013</td>\n",
       "      <td>High</td>\n",
       "      <td>3</td>\n",
       "      <td>Supermarket Type1</td>\n",
       "    </tr>\n",
       "  </tbody>\n",
       "</table>\n",
       "</div>"
      ],
      "text/plain": [
       "   Item_Identifier Item_Fat_Content              Item_Type Outlet_Identifier  \\\n",
       "0                8          Low Fat                  Dairy            OUT049   \n",
       "1                6          Regular            Soft Drinks            OUT018   \n",
       "2                7          Low Fat                   Meat            OUT049   \n",
       "3                6          Regular  Fruits and Vegetables            OUT010   \n",
       "4                6          Low Fat              Household            OUT013   \n",
       "\n",
       "  Outlet_Size  Outlet_Location_Type        Outlet_Type  \n",
       "0      Medium                     1  Supermarket Type1  \n",
       "1      Medium                     3  Supermarket Type2  \n",
       "2      Medium                     1  Supermarket Type1  \n",
       "3     Missing                     3      Grocery Store  \n",
       "4        High                     3  Supermarket Type1  "
      ]
     },
     "execution_count": 54,
     "metadata": {},
     "output_type": "execute_result"
    }
   ],
   "source": [
    "data[cate_feature].head()"
   ]
  },
  {
   "cell_type": "code",
   "execution_count": 55,
   "metadata": {},
   "outputs": [],
   "source": [
    "data['Item_Identifier'] = le.fit_transform(data['Item_Identifier'])\n",
    "data['Item_Fat_Content'] = le.fit_transform(data['Item_Fat_Content'])\n",
    "data['Item_Type'] = le.fit_transform(data['Item_Type'])\n",
    "data['Outlet_Identifier'] = le.fit_transform(data['Outlet_Identifier'])\n",
    "data['Outlet_Size'] = le.fit_transform(data['Outlet_Size'])\n",
    "data['Outlet_Type'] = le.fit_transform(data['Outlet_Location_Type'])"
   ]
  },
  {
   "cell_type": "code",
   "execution_count": 56,
   "metadata": {},
   "outputs": [
    {
     "data": {
      "text/html": [
       "<div>\n",
       "<style scoped>\n",
       "    .dataframe tbody tr th:only-of-type {\n",
       "        vertical-align: middle;\n",
       "    }\n",
       "\n",
       "    .dataframe tbody tr th {\n",
       "        vertical-align: top;\n",
       "    }\n",
       "\n",
       "    .dataframe thead th {\n",
       "        text-align: right;\n",
       "    }\n",
       "</style>\n",
       "<table border=\"1\" class=\"dataframe\">\n",
       "  <thead>\n",
       "    <tr style=\"text-align: right;\">\n",
       "      <th></th>\n",
       "      <th>Item_Identifier</th>\n",
       "      <th>Item_Fat_Content</th>\n",
       "      <th>Item_Type</th>\n",
       "      <th>Outlet_Identifier</th>\n",
       "      <th>Outlet_Size</th>\n",
       "      <th>Outlet_Location_Type</th>\n",
       "      <th>Outlet_Type</th>\n",
       "    </tr>\n",
       "  </thead>\n",
       "  <tbody>\n",
       "    <tr>\n",
       "      <th>0</th>\n",
       "      <td>7</td>\n",
       "      <td>1</td>\n",
       "      <td>4</td>\n",
       "      <td>9</td>\n",
       "      <td>1</td>\n",
       "      <td>1</td>\n",
       "      <td>0</td>\n",
       "    </tr>\n",
       "    <tr>\n",
       "      <th>1</th>\n",
       "      <td>5</td>\n",
       "      <td>2</td>\n",
       "      <td>14</td>\n",
       "      <td>3</td>\n",
       "      <td>1</td>\n",
       "      <td>3</td>\n",
       "      <td>2</td>\n",
       "    </tr>\n",
       "    <tr>\n",
       "      <th>2</th>\n",
       "      <td>6</td>\n",
       "      <td>1</td>\n",
       "      <td>10</td>\n",
       "      <td>9</td>\n",
       "      <td>1</td>\n",
       "      <td>1</td>\n",
       "      <td>0</td>\n",
       "    </tr>\n",
       "    <tr>\n",
       "      <th>3</th>\n",
       "      <td>5</td>\n",
       "      <td>2</td>\n",
       "      <td>6</td>\n",
       "      <td>0</td>\n",
       "      <td>2</td>\n",
       "      <td>3</td>\n",
       "      <td>2</td>\n",
       "    </tr>\n",
       "    <tr>\n",
       "      <th>4</th>\n",
       "      <td>5</td>\n",
       "      <td>1</td>\n",
       "      <td>9</td>\n",
       "      <td>1</td>\n",
       "      <td>0</td>\n",
       "      <td>3</td>\n",
       "      <td>2</td>\n",
       "    </tr>\n",
       "  </tbody>\n",
       "</table>\n",
       "</div>"
      ],
      "text/plain": [
       "   Item_Identifier  Item_Fat_Content  Item_Type  Outlet_Identifier  \\\n",
       "0                7                 1          4                  9   \n",
       "1                5                 2         14                  3   \n",
       "2                6                 1         10                  9   \n",
       "3                5                 2          6                  0   \n",
       "4                5                 1          9                  1   \n",
       "\n",
       "   Outlet_Size  Outlet_Location_Type  Outlet_Type  \n",
       "0            1                     1            0  \n",
       "1            1                     3            2  \n",
       "2            1                     1            0  \n",
       "3            2                     3            2  \n",
       "4            0                     3            2  "
      ]
     },
     "execution_count": 56,
     "metadata": {},
     "output_type": "execute_result"
    }
   ],
   "source": [
    "data[cate_feature].head()"
   ]
  },
  {
   "cell_type": "markdown",
   "metadata": {},
   "source": [
    "#### Handling rare categorical variable"
   ]
  },
  {
   "cell_type": "code",
   "execution_count": 57,
   "metadata": {},
   "outputs": [],
   "source": [
    "# for feature in cate_feature: - BUT WE WONT HANDLE RARE VARIAVLE BCZ ITENDIFIIER WILL ALL GET RARE, SO AVAOID\n",
    "#     temp = data.groupby(feature)['Item_Outlet_Sales'].count()/len(data)\n",
    "#     temp_df = temp[temp>0.01].index\n",
    "#     data[feature] = np.where(data[feature].isin(temp_df),data[feature],'Rare_var')"
   ]
  },
  {
   "cell_type": "code",
   "execution_count": 58,
   "metadata": {},
   "outputs": [],
   "source": [
    "# data[cate_feature].head() "
   ]
  },
  {
   "cell_type": "markdown",
   "metadata": {},
   "source": [
    "### Feature Scaling"
   ]
  },
  {
   "cell_type": "code",
   "execution_count": 59,
   "metadata": {},
   "outputs": [],
   "source": [
    "from sklearn.preprocessing import MinMaxScaler"
   ]
  },
  {
   "cell_type": "code",
   "execution_count": 60,
   "metadata": {},
   "outputs": [
    {
     "data": {
      "text/html": [
       "<div>\n",
       "<style scoped>\n",
       "    .dataframe tbody tr th:only-of-type {\n",
       "        vertical-align: middle;\n",
       "    }\n",
       "\n",
       "    .dataframe tbody tr th {\n",
       "        vertical-align: top;\n",
       "    }\n",
       "\n",
       "    .dataframe thead th {\n",
       "        text-align: right;\n",
       "    }\n",
       "</style>\n",
       "<table border=\"1\" class=\"dataframe\">\n",
       "  <thead>\n",
       "    <tr style=\"text-align: right;\">\n",
       "      <th></th>\n",
       "      <th>Item_Identifier</th>\n",
       "      <th>Item_Weight</th>\n",
       "      <th>Item_Fat_Content</th>\n",
       "      <th>Item_Visibility</th>\n",
       "      <th>Item_Type</th>\n",
       "      <th>Item_MRP</th>\n",
       "      <th>Outlet_Identifier</th>\n",
       "      <th>Outlet_Establishment_Year</th>\n",
       "      <th>Outlet_Size</th>\n",
       "      <th>Outlet_Location_Type</th>\n",
       "      <th>Outlet_Type</th>\n",
       "      <th>Item_Outlet_Sales</th>\n",
       "    </tr>\n",
       "  </thead>\n",
       "  <tbody>\n",
       "    <tr>\n",
       "      <th>0</th>\n",
       "      <td>0.777778</td>\n",
       "      <td>0.282525</td>\n",
       "      <td>0.25</td>\n",
       "      <td>0.094427</td>\n",
       "      <td>0.266667</td>\n",
       "      <td>0.927507</td>\n",
       "      <td>1.000000</td>\n",
       "      <td>0.583333</td>\n",
       "      <td>0.333333</td>\n",
       "      <td>0.0</td>\n",
       "      <td>0.0</td>\n",
       "      <td>0.642181</td>\n",
       "    </tr>\n",
       "    <tr>\n",
       "      <th>1</th>\n",
       "      <td>0.555556</td>\n",
       "      <td>0.081274</td>\n",
       "      <td>0.50</td>\n",
       "      <td>0.113439</td>\n",
       "      <td>0.933333</td>\n",
       "      <td>0.072068</td>\n",
       "      <td>0.333333</td>\n",
       "      <td>1.000000</td>\n",
       "      <td>0.333333</td>\n",
       "      <td>1.0</td>\n",
       "      <td>1.0</td>\n",
       "      <td>0.071148</td>\n",
       "    </tr>\n",
       "    <tr>\n",
       "      <th>2</th>\n",
       "      <td>0.666667</td>\n",
       "      <td>0.770765</td>\n",
       "      <td>0.25</td>\n",
       "      <td>0.098622</td>\n",
       "      <td>0.666667</td>\n",
       "      <td>0.468288</td>\n",
       "      <td>1.000000</td>\n",
       "      <td>0.583333</td>\n",
       "      <td>0.333333</td>\n",
       "      <td>0.0</td>\n",
       "      <td>0.0</td>\n",
       "      <td>0.358050</td>\n",
       "    </tr>\n",
       "    <tr>\n",
       "      <th>3</th>\n",
       "      <td>0.555556</td>\n",
       "      <td>0.871986</td>\n",
       "      <td>0.50</td>\n",
       "      <td>0.000000</td>\n",
       "      <td>0.400000</td>\n",
       "      <td>0.640093</td>\n",
       "      <td>0.000000</td>\n",
       "      <td>0.541667</td>\n",
       "      <td>0.666667</td>\n",
       "      <td>1.0</td>\n",
       "      <td>1.0</td>\n",
       "      <td>0.121275</td>\n",
       "    </tr>\n",
       "    <tr>\n",
       "      <th>4</th>\n",
       "      <td>0.555556</td>\n",
       "      <td>0.260494</td>\n",
       "      <td>0.25</td>\n",
       "      <td>0.000000</td>\n",
       "      <td>0.600000</td>\n",
       "      <td>0.095805</td>\n",
       "      <td>0.111111</td>\n",
       "      <td>0.083333</td>\n",
       "      <td>0.000000</td>\n",
       "      <td>1.0</td>\n",
       "      <td>1.0</td>\n",
       "      <td>0.166782</td>\n",
       "    </tr>\n",
       "  </tbody>\n",
       "</table>\n",
       "</div>"
      ],
      "text/plain": [
       "   Item_Identifier  Item_Weight  Item_Fat_Content  Item_Visibility  Item_Type  \\\n",
       "0         0.777778     0.282525              0.25         0.094427   0.266667   \n",
       "1         0.555556     0.081274              0.50         0.113439   0.933333   \n",
       "2         0.666667     0.770765              0.25         0.098622   0.666667   \n",
       "3         0.555556     0.871986              0.50         0.000000   0.400000   \n",
       "4         0.555556     0.260494              0.25         0.000000   0.600000   \n",
       "\n",
       "   Item_MRP  Outlet_Identifier  Outlet_Establishment_Year  Outlet_Size  \\\n",
       "0  0.927507           1.000000                   0.583333     0.333333   \n",
       "1  0.072068           0.333333                   1.000000     0.333333   \n",
       "2  0.468288           1.000000                   0.583333     0.333333   \n",
       "3  0.640093           0.000000                   0.541667     0.666667   \n",
       "4  0.095805           0.111111                   0.083333     0.000000   \n",
       "\n",
       "   Outlet_Location_Type  Outlet_Type  Item_Outlet_Sales  \n",
       "0                   0.0          0.0           0.642181  \n",
       "1                   1.0          1.0           0.071148  \n",
       "2                   0.0          0.0           0.358050  \n",
       "3                   1.0          1.0           0.121275  \n",
       "4                   1.0          1.0           0.166782  "
      ]
     },
     "execution_count": 60,
     "metadata": {},
     "output_type": "execute_result"
    }
   ],
   "source": [
    "scaler = MinMaxScaler()\n",
    "scaled_data = scaler.fit_transform(data)\n",
    "scaled_data = pd.DataFrame(scaled_data, columns = data.columns)\n",
    "scaled_data.head()"
   ]
  },
  {
   "cell_type": "markdown",
   "metadata": {},
   "source": [
    "## Apply various models.. knn, linear regression, decision tree,random forest and ensemble "
   ]
  },
  {
   "cell_type": "markdown",
   "metadata": {},
   "source": [
    "## KNN"
   ]
  },
  {
   "cell_type": "markdown",
   "metadata": {},
   "source": [
    "#### 1. Segregate variables independent and dependent variables"
   ]
  },
  {
   "cell_type": "code",
   "execution_count": 61,
   "metadata": {},
   "outputs": [
    {
     "data": {
      "text/plain": [
       "((8523, 11), (8523,))"
      ]
     },
     "execution_count": 61,
     "metadata": {},
     "output_type": "execute_result"
    }
   ],
   "source": [
    "X = data.drop(['Item_Outlet_Sales'],axis=1)\n",
    "y = data['Item_Outlet_Sales']\n",
    "X.shape, y.shape"
   ]
  },
  {
   "cell_type": "markdown",
   "metadata": {},
   "source": [
    "#### 2. Import train test split function "
   ]
  },
  {
   "cell_type": "code",
   "execution_count": 62,
   "metadata": {},
   "outputs": [],
   "source": [
    "from sklearn.model_selection import train_test_split\n",
    "train_X,test_X,train_y,test_y = train_test_split(X,y,random_state = 56)"
   ]
  },
  {
   "cell_type": "markdown",
   "metadata": {},
   "source": [
    "#### 3. Implement KNN Regresson(since it is a regression problem) "
   ]
  },
  {
   "cell_type": "markdown",
   "metadata": {},
   "source": [
    "##### Applying mse evaluation metrics"
   ]
  },
  {
   "cell_type": "code",
   "execution_count": 129,
   "metadata": {},
   "outputs": [],
   "source": [
    "from sklearn.neighbors import KNeighborsRegressor as KNN #for importing the regressor\n",
    "from sklearn.metrics import mean_squared_error as mse #for importing the evaluation metrics to look for errors"
   ]
  },
  {
   "cell_type": "code",
   "execution_count": 130,
   "metadata": {},
   "outputs": [
    {
     "name": "stdout",
     "output_type": "stream",
     "text": [
      "Test MSE  1081425.1934569157\n"
     ]
    }
   ],
   "source": [
    "reg = KNN(n_neighbors = 5) #creating an instance/object of KNN\n",
    "reg.fit(train_X,train_y) #fitting the model on just the TRAIN data\n",
    "test_predict = reg.predict(test_X) #predicting over the test set\n",
    "k = mse(test_predict,test_y)\n",
    "print('Test MSE ',k)"
   ]
  },
  {
   "cell_type": "markdown",
   "metadata": {},
   "source": [
    "#### 4. We have to check for various values of k(n_neighbors), so let's automate it by using an ELBOW for the regressor"
   ]
  },
  {
   "cell_type": "code",
   "execution_count": 131,
   "metadata": {},
   "outputs": [],
   "source": [
    "def Elbow(k):\n",
    "    test_mse = [] #initiating an empty list first\n",
    "    for i in k:  #training model for every value of k\n",
    "        reg = KNN(n_neighbors = i) #again creating an instance of KNN\n",
    "        reg.fit(train_X,train_y) #fitting over the TRAIN data\n",
    "        tmp = reg.predict(test_X) #predicting over the test set using a variable tmp\n",
    "        tmp = mse(tmp,test_y)\n",
    "        test_mse.append(tmp)  #appending the values of mse to empty list test_mse\n",
    "    return test_mse"
   ]
  },
  {
   "cell_type": "code",
   "execution_count": 132,
   "metadata": {},
   "outputs": [],
   "source": [
    "k = range(1,30) #defining k range"
   ]
  },
  {
   "cell_type": "code",
   "execution_count": 133,
   "metadata": {},
   "outputs": [],
   "source": [
    "test = Elbow(k) #calling above defined function"
   ]
  },
  {
   "cell_type": "code",
   "execution_count": 134,
   "metadata": {},
   "outputs": [
    {
     "data": {
      "text/plain": [
       "Text(0.5, 1.0, 'elbow curve for test')"
      ]
     },
     "execution_count": 134,
     "metadata": {},
     "output_type": "execute_result"
    },
    {
     "data": {
      "image/png": "[encoded data removed]",
      "text/plain": [
       "<Figure size 432x288 with 1 Axes>"
      ]
     },
     "metadata": {
      "needs_background": "light"
     },
     "output_type": "display_data"
    }
   ],
   "source": [
    "plt.plot(k,test)\n",
    "plt.xlabel('k neighbors')\n",
    "plt.ylabel('test mean squared error')\n",
    "plt.title('elbow curve for test')"
   ]
  },
  {
   "cell_type": "code",
   "execution_count": 135,
   "metadata": {
    "scrolled": true
   },
   "outputs": [
    {
     "data": {
      "text/html": [
       "<div>\n",
       "<style scoped>\n",
       "    .dataframe tbody tr th:only-of-type {\n",
       "        vertical-align: middle;\n",
       "    }\n",
       "\n",
       "    .dataframe tbody tr th {\n",
       "        vertical-align: top;\n",
       "    }\n",
       "\n",
       "    .dataframe thead th {\n",
       "        text-align: right;\n",
       "    }\n",
       "</style>\n",
       "<table border=\"1\" class=\"dataframe\">\n",
       "  <thead>\n",
       "    <tr style=\"text-align: right;\">\n",
       "      <th></th>\n",
       "      <th>k</th>\n",
       "      <th>test</th>\n",
       "    </tr>\n",
       "  </thead>\n",
       "  <tbody>\n",
       "    <tr>\n",
       "      <th>9</th>\n",
       "      <td>10</td>\n",
       "      <td>1.039984e+06</td>\n",
       "    </tr>\n",
       "    <tr>\n",
       "      <th>10</th>\n",
       "      <td>11</td>\n",
       "      <td>1.041020e+06</td>\n",
       "    </tr>\n",
       "    <tr>\n",
       "      <th>11</th>\n",
       "      <td>12</td>\n",
       "      <td>1.043388e+06</td>\n",
       "    </tr>\n",
       "    <tr>\n",
       "      <th>8</th>\n",
       "      <td>9</td>\n",
       "      <td>1.046934e+06</td>\n",
       "    </tr>\n",
       "    <tr>\n",
       "      <th>12</th>\n",
       "      <td>13</td>\n",
       "      <td>1.048615e+06</td>\n",
       "    </tr>\n",
       "    <tr>\n",
       "      <th>13</th>\n",
       "      <td>14</td>\n",
       "      <td>1.049777e+06</td>\n",
       "    </tr>\n",
       "    <tr>\n",
       "      <th>7</th>\n",
       "      <td>8</td>\n",
       "      <td>1.050139e+06</td>\n",
       "    </tr>\n",
       "    <tr>\n",
       "      <th>6</th>\n",
       "      <td>7</td>\n",
       "      <td>1.051639e+06</td>\n",
       "    </tr>\n",
       "    <tr>\n",
       "      <th>14</th>\n",
       "      <td>15</td>\n",
       "      <td>1.060891e+06</td>\n",
       "    </tr>\n",
       "    <tr>\n",
       "      <th>15</th>\n",
       "      <td>16</td>\n",
       "      <td>1.062096e+06</td>\n",
       "    </tr>\n",
       "    <tr>\n",
       "      <th>16</th>\n",
       "      <td>17</td>\n",
       "      <td>1.070545e+06</td>\n",
       "    </tr>\n",
       "    <tr>\n",
       "      <th>5</th>\n",
       "      <td>6</td>\n",
       "      <td>1.073684e+06</td>\n",
       "    </tr>\n",
       "    <tr>\n",
       "      <th>17</th>\n",
       "      <td>18</td>\n",
       "      <td>1.074296e+06</td>\n",
       "    </tr>\n",
       "    <tr>\n",
       "      <th>18</th>\n",
       "      <td>19</td>\n",
       "      <td>1.078695e+06</td>\n",
       "    </tr>\n",
       "    <tr>\n",
       "      <th>4</th>\n",
       "      <td>5</td>\n",
       "      <td>1.081425e+06</td>\n",
       "    </tr>\n",
       "    <tr>\n",
       "      <th>19</th>\n",
       "      <td>20</td>\n",
       "      <td>1.084811e+06</td>\n",
       "    </tr>\n",
       "    <tr>\n",
       "      <th>20</th>\n",
       "      <td>21</td>\n",
       "      <td>1.094619e+06</td>\n",
       "    </tr>\n",
       "    <tr>\n",
       "      <th>21</th>\n",
       "      <td>22</td>\n",
       "      <td>1.096714e+06</td>\n",
       "    </tr>\n",
       "    <tr>\n",
       "      <th>23</th>\n",
       "      <td>24</td>\n",
       "      <td>1.102587e+06</td>\n",
       "    </tr>\n",
       "    <tr>\n",
       "      <th>22</th>\n",
       "      <td>23</td>\n",
       "      <td>1.102663e+06</td>\n",
       "    </tr>\n",
       "    <tr>\n",
       "      <th>3</th>\n",
       "      <td>4</td>\n",
       "      <td>1.104413e+06</td>\n",
       "    </tr>\n",
       "    <tr>\n",
       "      <th>24</th>\n",
       "      <td>25</td>\n",
       "      <td>1.107854e+06</td>\n",
       "    </tr>\n",
       "    <tr>\n",
       "      <th>25</th>\n",
       "      <td>26</td>\n",
       "      <td>1.116105e+06</td>\n",
       "    </tr>\n",
       "    <tr>\n",
       "      <th>26</th>\n",
       "      <td>27</td>\n",
       "      <td>1.122786e+06</td>\n",
       "    </tr>\n",
       "    <tr>\n",
       "      <th>27</th>\n",
       "      <td>28</td>\n",
       "      <td>1.124949e+06</td>\n",
       "    </tr>\n",
       "    <tr>\n",
       "      <th>28</th>\n",
       "      <td>29</td>\n",
       "      <td>1.132913e+06</td>\n",
       "    </tr>\n",
       "    <tr>\n",
       "      <th>2</th>\n",
       "      <td>3</td>\n",
       "      <td>1.163858e+06</td>\n",
       "    </tr>\n",
       "    <tr>\n",
       "      <th>1</th>\n",
       "      <td>2</td>\n",
       "      <td>1.313660e+06</td>\n",
       "    </tr>\n",
       "    <tr>\n",
       "      <th>0</th>\n",
       "      <td>1</td>\n",
       "      <td>1.699867e+06</td>\n",
       "    </tr>\n",
       "  </tbody>\n",
       "</table>\n",
       "</div>"
      ],
      "text/plain": [
       "     k          test\n",
       "9   10  1.039984e+06\n",
       "10  11  1.041020e+06\n",
       "11  12  1.043388e+06\n",
       "8    9  1.046934e+06\n",
       "12  13  1.048615e+06\n",
       "13  14  1.049777e+06\n",
       "7    8  1.050139e+06\n",
       "6    7  1.051639e+06\n",
       "14  15  1.060891e+06\n",
       "15  16  1.062096e+06\n",
       "16  17  1.070545e+06\n",
       "5    6  1.073684e+06\n",
       "17  18  1.074296e+06\n",
       "18  19  1.078695e+06\n",
       "4    5  1.081425e+06\n",
       "19  20  1.084811e+06\n",
       "20  21  1.094619e+06\n",
       "21  22  1.096714e+06\n",
       "23  24  1.102587e+06\n",
       "22  23  1.102663e+06\n",
       "3    4  1.104413e+06\n",
       "24  25  1.107854e+06\n",
       "25  26  1.116105e+06\n",
       "26  27  1.122786e+06\n",
       "27  28  1.124949e+06\n",
       "28  29  1.132913e+06\n",
       "2    3  1.163858e+06\n",
       "1    2  1.313660e+06\n",
       "0    1  1.699867e+06"
      ]
     },
     "execution_count": 135,
     "metadata": {},
     "output_type": "execute_result"
    }
   ],
   "source": [
    "d = {'k': k,'test' : test}\n",
    "d = pd.DataFrame(d)\n",
    "d.sort_values(by=['test'])"
   ]
  },
  {
   "cell_type": "code",
   "execution_count": 136,
   "metadata": {
    "scrolled": false
   },
   "outputs": [
    {
     "name": "stdout",
     "output_type": "stream",
     "text": [
      "Test MSE  1039983.6155808403\n"
     ]
    }
   ],
   "source": [
    "reg = KNN(n_neighbors = 10) #creating instance of KNN and selecting that k value which results in minimum test error\n",
    "reg.fit(train_X,train_y) #fitting over the TRAIN data\n",
    "test_predict = reg.predict(test_X) #predicting over the test set and calculate mse(over test data)\n",
    "k = mse(test_predict, test_y)\n",
    "print('Test MSE ',k)"
   ]
  },
  {
   "cell_type": "markdown",
   "metadata": {},
   "source": [
    "### Cross validation - used in for KNN model"
   ]
  },
  {
   "cell_type": "markdown",
   "metadata": {},
   "source": [
    "#### we have seen and used both train and test set, what if we get an unseen data, will our model still be able to perform that well??? In order to check that we create a cross validation, A common practice in data science competitions is to iterate over various models to find a better performing model. However, it becomes difficult to distinguish whether this improvement in score is coming because we are capturing the relationship better, or we are just over-fitting the data(just good on training set and performs poorly on any unseen data). To find the right answer for this question, we use validation techniques. This method helps us in achieving more generalized relationships. Cross Validation is a technique which involves reserving a particular sample of a dataset on which you do not train the model. Later, you test your model on this sample before finalizing it."
   ]
  },
  {
   "cell_type": "code",
   "execution_count": 138,
   "metadata": {},
   "outputs": [
    {
     "data": {
      "text/plain": [
       "array([0.39802593, 0.36238842, 0.36786355, 0.34678565, 0.45061277,\n",
       "       0.38596081, 0.43657498, 0.41153143, 0.4109381 , 0.34696347])"
      ]
     },
     "execution_count": 138,
     "metadata": {},
     "output_type": "execute_result"
    }
   ],
   "source": [
    "from sklearn.model_selection import cross_val_score\n",
    "score = cross_val_score( KNN(n_neighbors = 3), X = train_X, y = train_y, cv = 10)\n",
    "score"
   ]
  },
  {
   "cell_type": "code",
   "execution_count": 139,
   "metadata": {},
   "outputs": [
    {
     "data": {
      "text/plain": [
       "(39.176451134619505, 3.4302746620783773)"
      ]
     },
     "execution_count": 139,
     "metadata": {},
     "output_type": "execute_result"
    }
   ],
   "source": [
    "# Consistency using Mean and standard deviation in percentage -#mean should be high and std. deviation low for a better model\n",
    "score.mean()*100, score.std()*100"
   ]
  },
  {
   "cell_type": "code",
   "execution_count": 140,
   "metadata": {},
   "outputs": [],
   "source": [
    "def Val_score(n_neighbors): #just automating the process for different k neighbors(n neighbors value)\n",
    "    '''\n",
    "  takes range of n_neighbors as input\n",
    "  returns Mean and Standard Deviation for each value of n_neighbors\n",
    "  '''\n",
    "    avg = []\n",
    "    std = []\n",
    "  \n",
    "    for i in n_neighbors:\n",
    "    \n",
    "    # 10 fold cross validation for every value of n_neighbor\n",
    "      score = cross_val_score( KNN(n_neighbors = i) , X = train_X, y = train_y, cv = 10)\n",
    "    \n",
    "    # adding mean to avg list\n",
    "      avg.append(score.mean())\n",
    "    \n",
    "    # adding standard deviation to std list\n",
    "      std.append(score.std())\n",
    "    \n",
    "    return avg, std"
   ]
  },
  {
   "cell_type": "code",
   "execution_count": 141,
   "metadata": {},
   "outputs": [],
   "source": [
    "n_neighbors = range(1,50)\n",
    "mean, std = Val_score(n_neighbors)"
   ]
  },
  {
   "cell_type": "code",
   "execution_count": 142,
   "metadata": {},
   "outputs": [
    {
     "data": {
      "text/plain": [
       "Text(0.5, 1.0, 'Mean Validation score')"
      ]
     },
     "execution_count": 142,
     "metadata": {},
     "output_type": "execute_result"
    },
    {
     "data": {
      "image/png": "[encoded data removed]",
      "text/plain": [
       "<Figure size 432x288 with 1 Axes>"
      ]
     },
     "metadata": {
      "needs_background": "light"
     },
     "output_type": "display_data"
    }
   ],
   "source": [
    "plt.plot(n_neighbors, mean, color = 'green', label = 'mean' ) #plotting mean validation score for each k value\n",
    "plt.xlabel('n_neighbors')\n",
    "plt.ylabel('Mean Score')\n",
    "plt.title('Mean Validation score') #in below curve we see that mean score is high when n_neighbors is between(0-10),so lets chck"
   ]
  },
  {
   "cell_type": "code",
   "execution_count": 145,
   "metadata": {},
   "outputs": [
    {
     "data": {
      "text/plain": [
       "Text(0.5, 1.0, 'Mean Validation score')"
      ]
     },
     "execution_count": 145,
     "metadata": {},
     "output_type": "execute_result"
    },
    {
     "data": {
      "image/png": "[encoded data removed]",
      "text/plain": [
       "<Figure size 432x288 with 1 Axes>"
      ]
     },
     "metadata": {
      "needs_background": "light"
     },
     "output_type": "display_data"
    }
   ],
   "source": [
    "plt.plot(n_neighbors[0:10], mean[0:10], color = 'green', label = 'mean' )\n",
    "plt.xlabel('n_neighbors')\n",
    "plt.ylabel('Mean Score')\n",
    "plt.title('Mean Validation score')"
   ]
  },
  {
   "cell_type": "code",
   "execution_count": 146,
   "metadata": {},
   "outputs": [
    {
     "data": {
      "text/plain": [
       "Text(0.5, 1.0, 'Standard Deviation of Validation score')"
      ]
     },
     "execution_count": 146,
     "metadata": {},
     "output_type": "execute_result"
    },
    {
     "data": {
      "image/png": "[encoded data removed]",
      "text/plain": [
       "<Figure size 432x288 with 1 Axes>"
      ]
     },
     "metadata": {
      "needs_background": "light"
     },
     "output_type": "display_data"
    }
   ],
   "source": [
    "plt.plot(n_neighbors[0:10], std[0:10], color = 'red', label = 'Standard deviation' )\n",
    "plt.xlabel('n_neighbors')  ##plotting std. deviation validation score for each k value\n",
    "plt.ylabel('magnitude') #above we got 0-10 giving high mean score,and out of it frm the plt above n_neighbor = 8 seemsto b best\n",
    "plt.title('Standard Deviation of Validation score')#n_neighbor = 8, has high mean score and less std dev which is very GOOD"
   ]
  },
  {
   "cell_type": "code",
   "execution_count": 147,
   "metadata": {},
   "outputs": [
    {
     "data": {
      "text/plain": [
       "array([0.45382537, 0.4188698 , 0.43072856, 0.41579041, 0.49871631,\n",
       "       0.45290867, 0.47034198, 0.45515255, 0.45324485, 0.44010521])"
      ]
     },
     "execution_count": 147,
     "metadata": {},
     "output_type": "execute_result"
    }
   ],
   "source": [
    "score = cross_val_score( KNN(n_neighbors = 8), X = train_X, y = train_y, cv = 10)\n",
    "score"
   ]
  },
  {
   "cell_type": "code",
   "execution_count": 148,
   "metadata": {},
   "outputs": [
    {
     "data": {
      "text/plain": [
       "(44.89683713854647, 2.3335132726647245)"
      ]
     },
     "execution_count": 148,
     "metadata": {},
     "output_type": "execute_result"
    }
   ],
   "source": [
    "# Consistency using Mean and standard deviation in percentage -#mean should be high and std. deviation low for a better model\n",
    "score.mean()*100, score.std()*100"
   ]
  },
  {
   "cell_type": "code",
   "execution_count": 150,
   "metadata": {},
   "outputs": [
    {
     "data": {
      "text/plain": [
       "(0.4353509421327393, 0.5848621352878781)"
      ]
     },
     "execution_count": 150,
     "metadata": {},
     "output_type": "execute_result"
    }
   ],
   "source": [
    "reg = KNN(n_neighbors = 8 ) #now lets check the performance on the test set or trying optimum model over test set\n",
    "reg.fit(train_X, train_y)\n",
    "\n",
    "score1 = reg.score(train_X, train_y)\n",
    "\n",
    "score = reg.score(test_X, test_y)\n",
    "score, score1"
   ]
  },
  {
   "cell_type": "code",
   "execution_count": null,
   "metadata": {},
   "outputs": [],
   "source": [
    "#APPLY CROSS VAL ON LINEAR REGREESION AND SEEEEEEE..THEN START WITH DECISION TREE, RANDOM FOREST..ETC"
   ]
  },
  {
   "cell_type": "code",
   "execution_count": null,
   "metadata": {},
   "outputs": [],
   "source": []
  },
  {
   "cell_type": "code",
   "execution_count": null,
   "metadata": {},
   "outputs": [],
   "source": []
  },
  {
   "cell_type": "markdown",
   "metadata": {},
   "source": [
    "##### IMP --> KNN - fit on train data and predict over test data and LINEAR REGRESSION - fit on train data and predict over train and test data"
   ]
  },
  {
   "cell_type": "markdown",
   "metadata": {},
   "source": [
    "## Linear Regression"
   ]
  },
  {
   "cell_type": "markdown",
   "metadata": {},
   "source": [
    "#### 1. Implement Linear Regression(since it is a regression problem) "
   ]
  },
  {
   "cell_type": "code",
   "execution_count": 111,
   "metadata": {},
   "outputs": [],
   "source": [
    "from sklearn.linear_model import LinearRegression as LR #imported requ. library\n",
    "from sklearn.metrics import mean_absolute_error as mae"
   ]
  },
  {
   "cell_type": "code",
   "execution_count": 112,
   "metadata": {},
   "outputs": [
    {
     "data": {
      "text/plain": [
       "LinearRegression(copy_X=True, fit_intercept=True, n_jobs=None, normalize=False)"
      ]
     },
     "execution_count": 112,
     "metadata": {},
     "output_type": "execute_result"
    }
   ],
   "source": [
    "lr = LR() #creating an instance of it\n",
    "lr.fit(train_X,train_y) #fitting ove the TRAIN data"
   ]
  },
  {
   "cell_type": "code",
   "execution_count": 113,
   "metadata": {},
   "outputs": [
    {
     "name": "stdout",
     "output_type": "stream",
     "text": [
      "Training Mean absolute error 853.6089454725252\n"
     ]
    }
   ],
   "source": [
    "train_predict = lr.predict(train_X)    # predicting over train data first and calculate mae(over train data)\n",
    "k = mae(train_predict,train_y)\n",
    "print('Training Mean absolute error', k)"
   ]
  },
  {
   "cell_type": "code",
   "execution_count": 114,
   "metadata": {},
   "outputs": [
    {
     "name": "stdout",
     "output_type": "stream",
     "text": [
      "Test Mean absolute error 853.1575470196949\n"
     ]
    }
   ],
   "source": [
    "test_predict = lr.predict(test_X)  # predicting over test data first and calculate mae(over test data)\n",
    "k = mae(test_predict,test_y)\n",
    "print('Test Mean absolute error', k)"
   ]
  },
  {
   "cell_type": "markdown",
   "metadata": {},
   "source": [
    "#### 2. Parameters of Linear Regression - mae, r2,adj_r2,lr.coef_,lr.intercept_"
   ]
  },
  {
   "cell_type": "code",
   "execution_count": 115,
   "metadata": {},
   "outputs": [
    {
     "data": {
      "text/plain": [
       "(853.1575470196949,\n",
       " 0.3586958061921437,\n",
       " 0.3578669557477909,\n",
       " array([-1.48639052e+01,  6.52770026e-01,  2.92886165e+01, -1.31650603e+03,\n",
       "         3.95835497e+00,  1.17936970e+01,  2.04861619e+02,  7.08236657e+00,\n",
       "        -2.12158398e+02,  2.28419335e+02,  2.28419335e+02]),\n",
       " -15075.319845359265)"
      ]
     },
     "execution_count": 115,
     "metadata": {},
     "output_type": "execute_result"
    }
   ],
   "source": [
    "from math import sqrt                   #first by MAE\n",
    "mae = mae(test_y,test_predict)    \n",
    "from sklearn.metrics import r2_score\n",
    "r2 = r2_score(test_y, test_predict)\n",
    "\n",
    "adj_r2 = 1 - float(len(y)-1)/(len(y)-len(lr.coef_)-1)*(1 - r2)\n",
    "\n",
    "mae, r2, adj_r2,  lr.coef_, lr.intercept_"
   ]
  },
  {
   "cell_type": "code",
   "execution_count": 116,
   "metadata": {
    "scrolled": false
   },
   "outputs": [
    {
     "data": {
      "text/plain": [
       "(1092.109430328695,\n",
       " 0.3586958061921437,\n",
       " 0.3578669557477909,\n",
       " array([-1.48639052e+01,  6.52770026e-01,  2.92886165e+01, -1.31650603e+03,\n",
       "         3.95835497e+00,  1.17936970e+01,  2.04861619e+02,  7.08236657e+00,\n",
       "        -2.12158398e+02,  2.28419335e+02,  2.28419335e+02]),\n",
       " -15075.319845359265)"
      ]
     },
     "execution_count": 116,
     "metadata": {},
     "output_type": "execute_result"
    }
   ],
   "source": [
    "from sklearn.metrics import mean_squared_error            #SECOND BY RMSE\n",
    "rmse = sqrt(mean_squared_error(test_y, test_predict))\n",
    "from sklearn.metrics import r2_score\n",
    "r2 = r2_score(test_y, test_predict)\n",
    "\n",
    "adj_r2 = 1 - float(len(y)-1)/(len(y)-len(lr.coef_)-1)*(1 - r2)\n",
    "\n",
    "rmse, r2, adj_r2, lr.coef_, lr.intercept_"
   ]
  },
  {
   "cell_type": "code",
   "execution_count": 117,
   "metadata": {},
   "outputs": [],
   "source": [
    "# sns.scatterplot(test_y,test_predict)"
   ]
  },
  {
   "cell_type": "markdown",
   "metadata": {},
   "source": [
    "#### 3. Checking assumptions of Linear Models (optional steps)"
   ]
  },
  {
   "cell_type": "markdown",
   "metadata": {},
   "source": [
    "##### a). HOMOSCEDASTICITY - checking by plotting a residual/error curve(there should be a constant variance of the residuals/error, THERE\n",
    "##### SHOULD BE NO TREND(INCREASING/DECREASING ETC..) - use scatter plot for it"
   ]
  },
  {
   "cell_type": "code",
   "execution_count": 118,
   "metadata": {
    "scrolled": true
   },
   "outputs": [
    {
     "data": {
      "text/html": [
       "<div>\n",
       "<style scoped>\n",
       "    .dataframe tbody tr th:only-of-type {\n",
       "        vertical-align: middle;\n",
       "    }\n",
       "\n",
       "    .dataframe tbody tr th {\n",
       "        vertical-align: top;\n",
       "    }\n",
       "\n",
       "    .dataframe thead th {\n",
       "        text-align: right;\n",
       "    }\n",
       "</style>\n",
       "<table border=\"1\" class=\"dataframe\">\n",
       "  <thead>\n",
       "    <tr style=\"text-align: right;\">\n",
       "      <th></th>\n",
       "      <th>actual value</th>\n",
       "      <th>predicted value</th>\n",
       "      <th>residuals</th>\n",
       "    </tr>\n",
       "  </thead>\n",
       "  <tbody>\n",
       "    <tr>\n",
       "      <th>2172</th>\n",
       "      <td>697.7584</td>\n",
       "      <td>1734.230311</td>\n",
       "      <td>-1036.471911</td>\n",
       "    </tr>\n",
       "    <tr>\n",
       "      <th>6228</th>\n",
       "      <td>1414.1592</td>\n",
       "      <td>1644.482127</td>\n",
       "      <td>-230.322927</td>\n",
       "    </tr>\n",
       "    <tr>\n",
       "      <th>2404</th>\n",
       "      <td>3078.6592</td>\n",
       "      <td>1763.978316</td>\n",
       "      <td>1314.680884</td>\n",
       "    </tr>\n",
       "    <tr>\n",
       "      <th>99</th>\n",
       "      <td>1314.2892</td>\n",
       "      <td>2415.123827</td>\n",
       "      <td>-1100.834627</td>\n",
       "    </tr>\n",
       "    <tr>\n",
       "      <th>4945</th>\n",
       "      <td>1403.5064</td>\n",
       "      <td>1328.583363</td>\n",
       "      <td>74.923037</td>\n",
       "    </tr>\n",
       "  </tbody>\n",
       "</table>\n",
       "</div>"
      ],
      "text/plain": [
       "      actual value  predicted value    residuals\n",
       "2172      697.7584      1734.230311 -1036.471911\n",
       "6228     1414.1592      1644.482127  -230.322927\n",
       "2404     3078.6592      1763.978316  1314.680884\n",
       "99       1314.2892      2415.123827 -1100.834627\n",
       "4945     1403.5064      1328.583363    74.923037"
      ]
     },
     "execution_count": 118,
     "metadata": {},
     "output_type": "execute_result"
    }
   ],
   "source": [
    "residuals = pd.DataFrame({'actual value':test_y,'predicted value':test_predict}) #first define the residuals\n",
    "residuals['residuals'] = residuals['actual value'] - residuals['predicted value']\n",
    "residuals.head()"
   ]
  },
  {
   "cell_type": "code",
   "execution_count": 119,
   "metadata": {},
   "outputs": [],
   "source": [
    "# plt.figure(figsize = (10,6), dpi = 120, facecolor = 'w', edgecolor = 'b')\n",
    "# f = range(0,2131)\n",
    "# k = [0 for i in range(0,2131)]\n",
    "# plt.scatter(f,residuals.residuals[:],label='residuals')\n",
    "# plt.xlabel('fitted points')\n",
    "# plt.ylabel('residuals')\n",
    "# plt.plot(f,k,color = 'red',label = 'regression line')\n",
    "# plt.title('Residual plot')\n",
    "# plt.ylim(-4000,4000)\n",
    "# plt.legend()"
   ]
  },
  {
   "cell_type": "markdown",
   "metadata": {},
   "source": [
    "##### Conclusion of above plot - There is no constant variance of residuals, no pattern identified, no correlation between residuals --- GOOD SIGN"
   ]
  },
  {
   "cell_type": "markdown",
   "metadata": {},
   "source": [
    "##### b). should follow NORMAL DISTRIBUTION -- Checking distribution of Residuals - use histogram and Q-Q Plot for it"
   ]
  },
  {
   "cell_type": "code",
   "execution_count": 120,
   "metadata": {},
   "outputs": [],
   "source": [
    "# plt.figure(figsize = (10,6), dpi = 120,facecolor = 'w', edgecolor = 'b')   #plotting a histogram\n",
    "# plt.hist(residuals.residuals,bins =150)\n",
    "# plt.xlabel('Error')\n",
    "# plt.ylabel('frequency')\n",
    "# plt.title('Distribution of Error terms')\n",
    "# plt.show()"
   ]
  },
  {
   "cell_type": "markdown",
   "metadata": {},
   "source": [
    "##### Above plot --According to the Histogram, the distribution of error is nearly normal, But there are some outliers on the Higher end of the errors."
   ]
  },
  {
   "cell_type": "code",
   "execution_count": 121,
   "metadata": {},
   "outputs": [],
   "source": [
    "# from statsmodels.graphics.gofplots import qqplot  #plotting a q-q plot\n",
    "# fig,ax = plt.subplots(figsize =(5,5),dpi = 120)\n",
    "# qqplot(residuals.residuals,line = 's', ax=ax)     #residuals.residuals = blue line(error) and line ='s'(red line)      \n",
    "# plt.ylabel('Residuals Quantiles')\n",
    "# plt.title('checking distribution of residual error')\n",
    "# plt.xlabel('Ideal scale quantiles')\n",
    "# plt.show()"
   ]
  },
  {
   "cell_type": "markdown",
   "metadata": {},
   "source": [
    "##### Above plot -- the error is not deviating much from the red line so it means it follows a normal distribution with less outliers and its  GOOD SIGN"
   ]
  },
  {
   "cell_type": "markdown",
   "metadata": {},
   "source": [
    "##### c). MULTICOLLINEARITY - the degree by which independent variable are dependent on each other. Should be AS LESS AS POSSIBLE. Detected by calculating VIF(variance inflation factor), if VIF >5 or if VIF is high, then multicollinearity is high ( some independent variables re co-related with each other, WHICH ISN'T GOOD as it would be difficult to interpret the outcome of model)"
   ]
  },
  {
   "cell_type": "code",
   "execution_count": 122,
   "metadata": {},
   "outputs": [],
   "source": [
    "from statsmodels.stats.outliers_influence import variance_inflation_factor  #just importing VIF func from statsmodel\n",
    "from statsmodels.tools.tools import add_constant"
   ]
  },
  {
   "cell_type": "code",
   "execution_count": 123,
   "metadata": {},
   "outputs": [
    {
     "data": {
      "text/plain": [
       "Item_Identifier                   1.004281\n",
       "Item_Weight                       1.003250\n",
       "Item_Fat_Content                  1.016528\n",
       "Item_Visibility                   1.014567\n",
       "Item_Type                         1.016459\n",
       "Item_MRP                          1.444245\n",
       "Outlet_Identifier                 2.401024\n",
       "Outlet_Establishment_Year         1.095218\n",
       "Outlet_Size                       1.713457\n",
       "Outlet_Location_Type         317786.440777\n",
       "Outlet_Type                  117625.686146\n",
       "Item_Outlet_Sales                 1.633309\n",
       "dtype: float64"
      ]
     },
     "execution_count": 123,
     "metadata": {},
     "output_type": "execute_result"
    }
   ],
   "source": [
    "VIF = pd.Series([variance_inflation_factor(data.values,i) for i in range(data.shape[1])],index = data.columns)\n",
    "VIF   #if we have vif>5, then simple drop it"
   ]
  },
  {
   "cell_type": "code",
   "execution_count": 124,
   "metadata": {},
   "outputs": [
    {
     "data": {
      "text/plain": [
       "Item_Identifier              1.004281\n",
       "Item_Weight                  1.003250\n",
       "Item_Fat_Content             1.016528\n",
       "Item_Visibility              1.014567\n",
       "Item_Type                    1.016459\n",
       "Item_MRP                     1.444245\n",
       "Outlet_Identifier            2.401024\n",
       "Outlet_Establishment_Year    1.095218\n",
       "Outlet_Size                  1.713457\n",
       "Item_Outlet_Sales            1.633309\n",
       "dtype: float64"
      ]
     },
     "execution_count": 124,
     "metadata": {},
     "output_type": "execute_result"
    }
   ],
   "source": [
    "VIF = VIF[VIF <= 5]   #kept all the values where vif <=5 and in the process any value of vif>5, got deleted on it own\n",
    "VIF"
   ]
  },
  {
   "cell_type": "markdown",
   "metadata": {},
   "source": [
    "#### Now if have calculated VIF(by removing two usless feature which has VIF >5) , so lets check if adjusted r2 has varied or not"
   ]
  },
  {
   "cell_type": "code",
   "execution_count": 125,
   "metadata": {},
   "outputs": [],
   "source": [
    "from sklearn.linear_model import LinearRegression as LR #imported requ. library\n",
    "from sklearn.metrics import mean_absolute_error as mae"
   ]
  },
  {
   "cell_type": "code",
   "execution_count": 126,
   "metadata": {},
   "outputs": [
    {
     "data": {
      "text/plain": [
       "(853.1575470196949,\n",
       " 0.3586958061921437,\n",
       " 0.3578669557477909,\n",
       " array([-1.48639052e+01,  6.52770026e-01,  2.92886165e+01, -1.31650603e+03,\n",
       "         3.95835497e+00,  1.17936970e+01,  2.04861619e+02,  7.08236657e+00,\n",
       "        -2.12158398e+02,  2.28419335e+02,  2.28419335e+02]),\n",
       " -15075.319845359265)"
      ]
     },
     "execution_count": 126,
     "metadata": {},
     "output_type": "execute_result"
    }
   ],
   "source": [
    "from math import sqrt                   #first by MAE\n",
    "mae = mae(test_y,test_predict)    \n",
    "from sklearn.metrics import r2_score\n",
    "r2 = r2_score(test_y, test_predict)\n",
    "\n",
    "adj_r2 = 1 - float(len(y)-1)/(len(y)-len(lr.coef_)-1)*(1 - r2)\n",
    "\n",
    "mae, r2, adj_r2,  lr.coef_, lr.intercept_"
   ]
  },
  {
   "cell_type": "code",
   "execution_count": 127,
   "metadata": {
    "scrolled": true
   },
   "outputs": [
    {
     "data": {
      "text/plain": [
       "(1092.109430328695,\n",
       " 0.3586958061921437,\n",
       " 0.3578669557477909,\n",
       " array([-1.48639052e+01,  6.52770026e-01,  2.92886165e+01, -1.31650603e+03,\n",
       "         3.95835497e+00,  1.17936970e+01,  2.04861619e+02,  7.08236657e+00,\n",
       "        -2.12158398e+02,  2.28419335e+02,  2.28419335e+02]),\n",
       " -15075.319845359265)"
      ]
     },
     "execution_count": 127,
     "metadata": {},
     "output_type": "execute_result"
    }
   ],
   "source": [
    "from sklearn.metrics import mean_squared_error            #SECOND BY RMSE\n",
    "rmse = sqrt(mean_squared_error(test_y, test_predict))\n",
    "from sklearn.metrics import r2_score\n",
    "r2 = r2_score(test_y, test_predict)\n",
    "\n",
    "adj_r2 = 1 - float(len(y)-1)/(len(y)-len(lr.coef_)-1)*(1 - r2)\n",
    "\n",
    "rmse, r2, adj_r2, lr.coef_, lr.intercept_"
   ]
  },
  {
   "cell_type": "markdown",
   "metadata": {},
   "source": [
    "##### 4. Model interpretability - NOTEBOOK ANALYTICS VIDYA (OPTIONAL)- FOR NORMALIZING AND REPEATING ALL THE STEPS AGAIN"
   ]
  },
  {
   "cell_type": "markdown",
   "metadata": {},
   "source": [
    "### Feature Selection - can check and see if we get better result because here after feature selection MSE rised"
   ]
  },
  {
   "cell_type": "code",
   "execution_count": 88,
   "metadata": {},
   "outputs": [],
   "source": [
    "# import seaborn as sns                    \n",
    "# #get correlations of each features in dataset\n",
    "# corrmat = data.corr()\n",
    "# top_corr_features = corrmat.index\n",
    "# plt.figure(figsize=(20,20))\n",
    "# #plot heat map\n",
    "# g=sns.heatmap(data[top_corr_features].corr(),annot=True,cmap=\"RdYlGn\")"
   ]
  },
  {
   "cell_type": "code",
   "execution_count": 89,
   "metadata": {},
   "outputs": [],
   "source": [
    "# from sklearn.linear_model import Lasso\n",
    "# from sklearn.feature_selection import SelectFromModel"
   ]
  },
  {
   "cell_type": "markdown",
   "metadata": {},
   "source": [
    "##### 1. first working on train_X and train_y"
   ]
  },
  {
   "cell_type": "code",
   "execution_count": 90,
   "metadata": {},
   "outputs": [],
   "source": [
    "# sel_ = SelectFromModel(Lasso(alpha=0.005, random_state=0)) \n",
    "# sel_.fit(train_X,train_y)"
   ]
  },
  {
   "cell_type": "code",
   "execution_count": 91,
   "metadata": {},
   "outputs": [],
   "source": [
    "# sel_.get_support()"
   ]
  },
  {
   "cell_type": "code",
   "execution_count": 92,
   "metadata": {},
   "outputs": [],
   "source": [
    "# # let's print the number of total and selected features\n",
    "\n",
    "# # this is how we can make a list of the selected features\n",
    "# selected_feat = train_X.columns[(sel_.get_support())]\n",
    "\n",
    "# # let's print some stats\n",
    "# print('total features: {}'.format((train_X.shape[1])))\n",
    "# print('selected features: {}'.format(len(selected_feat)))\n",
    "# print('features with coefficients shrank to zero: {}'.format(\n",
    "#     np.sum(sel_.estimator_.coef_ == 0)))"
   ]
  },
  {
   "cell_type": "code",
   "execution_count": 93,
   "metadata": {},
   "outputs": [],
   "source": [
    "# selected_feat"
   ]
  },
  {
   "cell_type": "code",
   "execution_count": 94,
   "metadata": {},
   "outputs": [],
   "source": [
    "# data.head()"
   ]
  },
  {
   "cell_type": "code",
   "execution_count": 95,
   "metadata": {},
   "outputs": [],
   "source": [
    "# train_X=train_X[selected_feat]"
   ]
  },
  {
   "cell_type": "code",
   "execution_count": 96,
   "metadata": {},
   "outputs": [],
   "source": [
    "# train_X.head()   #same apply on the test data too, that is test_X"
   ]
  },
  {
   "cell_type": "markdown",
   "metadata": {},
   "source": [
    "##### 2. Secondly working on test_y and test_y "
   ]
  },
  {
   "cell_type": "code",
   "execution_count": 97,
   "metadata": {},
   "outputs": [],
   "source": [
    "# sel_ = SelectFromModel(Lasso(alpha=0.005, random_state=0)) \n",
    "# sel_.fit(test_X,test_y)"
   ]
  },
  {
   "cell_type": "code",
   "execution_count": 98,
   "metadata": {},
   "outputs": [],
   "source": [
    "# sel_.get_support()"
   ]
  },
  {
   "cell_type": "code",
   "execution_count": 99,
   "metadata": {},
   "outputs": [],
   "source": [
    "# # let's print the number of total and selected features\n",
    "\n",
    "# # this is how we can make a list of the selected features\n",
    "# selected_feat = test_X.columns[(sel_.get_support())]\n",
    "\n",
    "# # let's print some stats\n",
    "# print('total features: {}'.format((test_X.shape[1])))\n",
    "# print('selected features: {}'.format(len(selected_feat)))\n",
    "# print('features with coefficients shrank to zero: {}'.format(\n",
    "#     np.sum(sel_.estimator_.coef_ == 0)))"
   ]
  },
  {
   "cell_type": "code",
   "execution_count": 100,
   "metadata": {},
   "outputs": [],
   "source": [
    "# selected_feat"
   ]
  },
  {
   "cell_type": "code",
   "execution_count": 101,
   "metadata": {},
   "outputs": [],
   "source": [
    "# test_X=test_X[selected_feat]"
   ]
  },
  {
   "cell_type": "code",
   "execution_count": 102,
   "metadata": {},
   "outputs": [],
   "source": [
    "# test_X.head()"
   ]
  },
  {
   "cell_type": "code",
   "execution_count": null,
   "metadata": {},
   "outputs": [],
   "source": []
  }
 ],
 "metadata": {
  "kernelspec": {
   "display_name": "Python 3",
   "language": "python",
   "name": "python3"
  },
  "language_info": {
   "codemirror_mode": {
    "name": "ipython",
    "version": 3
   },
   "file_extension": ".py",
   "mimetype": "text/x-python",
   "name": "python",
   "nbconvert_exporter": "python",
   "pygments_lexer": "ipython3",
   "version": "3.7.6"
  }
 },
 "nbformat": 4,
 "nbformat_minor": 4
}
